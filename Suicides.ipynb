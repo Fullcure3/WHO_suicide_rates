{
 "cells": [
  {
   "cell_type": "code",
   "execution_count": 63,
   "id": "9fa13b68-95d3-4d32-8090-31a6e58c022c",
   "metadata": {},
   "outputs": [],
   "source": [
    "import pandas as pd\n",
    "import numpy as np\n",
    "import matplotlib.pyplot as plt\n",
    "import seaborn as sns\n",
    "from scipy.stats import zscore, f_oneway, ttest_ind\n",
    "from statsmodels.stats.multicomp import pairwise_tukeyhsd\n",
    "from refactoring import *"
   ]
  },
  {
   "cell_type": "markdown",
   "id": "f13c2e17-7e7c-40e0-b587-1710a372a8cd",
   "metadata": {},
   "source": [
    "### Loading CSV into pandas dataframe for data cleaning"
   ]
  },
  {
   "cell_type": "code",
   "execution_count": 17,
   "id": "2a39f02c-21e5-4a8a-ad08-1812b4e8cc52",
   "metadata": {},
   "outputs": [],
   "source": [
    "suicides = pd.read_csv('suicides.csv')"
   ]
  },
  {
   "cell_type": "markdown",
   "id": "574f2a4c-89a9-4e9d-acfa-eefe4e2d5bcb",
   "metadata": {},
   "source": [
    "#### Initial look at the data for data cleaning"
   ]
  },
  {
   "cell_type": "code",
   "execution_count": 18,
   "id": "86ff1f57-384c-4578-a76a-d94701148f29",
   "metadata": {},
   "outputs": [
    {
     "data": {
      "text/html": [
       "<div>\n",
       "<style scoped>\n",
       "    .dataframe tbody tr th:only-of-type {\n",
       "        vertical-align: middle;\n",
       "    }\n",
       "\n",
       "    .dataframe tbody tr th {\n",
       "        vertical-align: top;\n",
       "    }\n",
       "\n",
       "    .dataframe thead th {\n",
       "        text-align: right;\n",
       "    }\n",
       "</style>\n",
       "<table border=\"1\" class=\"dataframe\">\n",
       "  <thead>\n",
       "    <tr style=\"text-align: right;\">\n",
       "      <th></th>\n",
       "      <th>IndicatorCode</th>\n",
       "      <th>Indicator</th>\n",
       "      <th>ValueType</th>\n",
       "      <th>ParentLocationCode</th>\n",
       "      <th>ParentLocation</th>\n",
       "      <th>Location type</th>\n",
       "      <th>SpatialDimValueCode</th>\n",
       "      <th>Location</th>\n",
       "      <th>Period type</th>\n",
       "      <th>Period</th>\n",
       "      <th>...</th>\n",
       "      <th>FactValueUoM</th>\n",
       "      <th>FactValueNumericLowPrefix</th>\n",
       "      <th>FactValueNumericLow</th>\n",
       "      <th>FactValueNumericHighPrefix</th>\n",
       "      <th>FactValueNumericHigh</th>\n",
       "      <th>Value</th>\n",
       "      <th>FactValueTranslationID</th>\n",
       "      <th>FactComments</th>\n",
       "      <th>Language</th>\n",
       "      <th>DateModified</th>\n",
       "    </tr>\n",
       "  </thead>\n",
       "  <tbody>\n",
       "    <tr>\n",
       "      <th>0</th>\n",
       "      <td>SDGSUICIDE</td>\n",
       "      <td>Crude suicide rates (per 100 000 population)</td>\n",
       "      <td>text</td>\n",
       "      <td>AMR</td>\n",
       "      <td>Americas</td>\n",
       "      <td>Country</td>\n",
       "      <td>ATG</td>\n",
       "      <td>Antigua and Barbuda</td>\n",
       "      <td>Year</td>\n",
       "      <td>2019</td>\n",
       "      <td>...</td>\n",
       "      <td>NaN</td>\n",
       "      <td>NaN</td>\n",
       "      <td>NaN</td>\n",
       "      <td>NaN</td>\n",
       "      <td>NaN</td>\n",
       "      <td>0.0</td>\n",
       "      <td>NaN</td>\n",
       "      <td>NaN</td>\n",
       "      <td>EN</td>\n",
       "      <td>2021-07-06T04:00:00.000Z</td>\n",
       "    </tr>\n",
       "    <tr>\n",
       "      <th>1</th>\n",
       "      <td>SDGSUICIDE</td>\n",
       "      <td>Crude suicide rates (per 100 000 population)</td>\n",
       "      <td>text</td>\n",
       "      <td>AMR</td>\n",
       "      <td>Americas</td>\n",
       "      <td>Country</td>\n",
       "      <td>ATG</td>\n",
       "      <td>Antigua and Barbuda</td>\n",
       "      <td>Year</td>\n",
       "      <td>2019</td>\n",
       "      <td>...</td>\n",
       "      <td>NaN</td>\n",
       "      <td>NaN</td>\n",
       "      <td>NaN</td>\n",
       "      <td>NaN</td>\n",
       "      <td>NaN</td>\n",
       "      <td>0.0</td>\n",
       "      <td>NaN</td>\n",
       "      <td>NaN</td>\n",
       "      <td>EN</td>\n",
       "      <td>2021-07-06T04:00:00.000Z</td>\n",
       "    </tr>\n",
       "    <tr>\n",
       "      <th>2</th>\n",
       "      <td>SDGSUICIDE</td>\n",
       "      <td>Crude suicide rates (per 100 000 population)</td>\n",
       "      <td>text</td>\n",
       "      <td>AMR</td>\n",
       "      <td>Americas</td>\n",
       "      <td>Country</td>\n",
       "      <td>ATG</td>\n",
       "      <td>Antigua and Barbuda</td>\n",
       "      <td>Year</td>\n",
       "      <td>2019</td>\n",
       "      <td>...</td>\n",
       "      <td>NaN</td>\n",
       "      <td>NaN</td>\n",
       "      <td>NaN</td>\n",
       "      <td>NaN</td>\n",
       "      <td>NaN</td>\n",
       "      <td>0.0</td>\n",
       "      <td>NaN</td>\n",
       "      <td>NaN</td>\n",
       "      <td>EN</td>\n",
       "      <td>2021-07-06T04:00:00.000Z</td>\n",
       "    </tr>\n",
       "    <tr>\n",
       "      <th>3</th>\n",
       "      <td>SDGSUICIDE</td>\n",
       "      <td>Crude suicide rates (per 100 000 population)</td>\n",
       "      <td>text</td>\n",
       "      <td>AMR</td>\n",
       "      <td>Americas</td>\n",
       "      <td>Country</td>\n",
       "      <td>ATG</td>\n",
       "      <td>Antigua and Barbuda</td>\n",
       "      <td>Year</td>\n",
       "      <td>2019</td>\n",
       "      <td>...</td>\n",
       "      <td>NaN</td>\n",
       "      <td>NaN</td>\n",
       "      <td>NaN</td>\n",
       "      <td>NaN</td>\n",
       "      <td>NaN</td>\n",
       "      <td>0.0</td>\n",
       "      <td>NaN</td>\n",
       "      <td>NaN</td>\n",
       "      <td>EN</td>\n",
       "      <td>2021-07-06T04:00:00.000Z</td>\n",
       "    </tr>\n",
       "    <tr>\n",
       "      <th>4</th>\n",
       "      <td>SDGSUICIDE</td>\n",
       "      <td>Crude suicide rates (per 100 000 population)</td>\n",
       "      <td>text</td>\n",
       "      <td>AMR</td>\n",
       "      <td>Americas</td>\n",
       "      <td>Country</td>\n",
       "      <td>ATG</td>\n",
       "      <td>Antigua and Barbuda</td>\n",
       "      <td>Year</td>\n",
       "      <td>2019</td>\n",
       "      <td>...</td>\n",
       "      <td>NaN</td>\n",
       "      <td>NaN</td>\n",
       "      <td>NaN</td>\n",
       "      <td>NaN</td>\n",
       "      <td>NaN</td>\n",
       "      <td>0.0</td>\n",
       "      <td>NaN</td>\n",
       "      <td>NaN</td>\n",
       "      <td>EN</td>\n",
       "      <td>2021-07-06T04:00:00.000Z</td>\n",
       "    </tr>\n",
       "  </tbody>\n",
       "</table>\n",
       "<p>5 rows × 34 columns</p>\n",
       "</div>"
      ],
      "text/plain": [
       "  IndicatorCode                                     Indicator ValueType  \\\n",
       "0    SDGSUICIDE  Crude suicide rates (per 100 000 population)      text   \n",
       "1    SDGSUICIDE  Crude suicide rates (per 100 000 population)      text   \n",
       "2    SDGSUICIDE  Crude suicide rates (per 100 000 population)      text   \n",
       "3    SDGSUICIDE  Crude suicide rates (per 100 000 population)      text   \n",
       "4    SDGSUICIDE  Crude suicide rates (per 100 000 population)      text   \n",
       "\n",
       "  ParentLocationCode ParentLocation Location type SpatialDimValueCode  \\\n",
       "0                AMR       Americas       Country                 ATG   \n",
       "1                AMR       Americas       Country                 ATG   \n",
       "2                AMR       Americas       Country                 ATG   \n",
       "3                AMR       Americas       Country                 ATG   \n",
       "4                AMR       Americas       Country                 ATG   \n",
       "\n",
       "              Location Period type  Period  ...  FactValueUoM  \\\n",
       "0  Antigua and Barbuda        Year    2019  ...           NaN   \n",
       "1  Antigua and Barbuda        Year    2019  ...           NaN   \n",
       "2  Antigua and Barbuda        Year    2019  ...           NaN   \n",
       "3  Antigua and Barbuda        Year    2019  ...           NaN   \n",
       "4  Antigua and Barbuda        Year    2019  ...           NaN   \n",
       "\n",
       "  FactValueNumericLowPrefix FactValueNumericLow FactValueNumericHighPrefix  \\\n",
       "0                       NaN                 NaN                        NaN   \n",
       "1                       NaN                 NaN                        NaN   \n",
       "2                       NaN                 NaN                        NaN   \n",
       "3                       NaN                 NaN                        NaN   \n",
       "4                       NaN                 NaN                        NaN   \n",
       "\n",
       "  FactValueNumericHigh Value FactValueTranslationID  FactComments  Language  \\\n",
       "0                  NaN   0.0                    NaN           NaN        EN   \n",
       "1                  NaN   0.0                    NaN           NaN        EN   \n",
       "2                  NaN   0.0                    NaN           NaN        EN   \n",
       "3                  NaN   0.0                    NaN           NaN        EN   \n",
       "4                  NaN   0.0                    NaN           NaN        EN   \n",
       "\n",
       "               DateModified  \n",
       "0  2021-07-06T04:00:00.000Z  \n",
       "1  2021-07-06T04:00:00.000Z  \n",
       "2  2021-07-06T04:00:00.000Z  \n",
       "3  2021-07-06T04:00:00.000Z  \n",
       "4  2021-07-06T04:00:00.000Z  \n",
       "\n",
       "[5 rows x 34 columns]"
      ]
     },
     "execution_count": 18,
     "metadata": {},
     "output_type": "execute_result"
    }
   ],
   "source": [
    "suicides.head()"
   ]
  },
  {
   "cell_type": "markdown",
   "id": "c5bbda5c-d7f0-40e0-a31b-b1ea96edd39e",
   "metadata": {},
   "source": [
    "#### Remove metadata columns and missing data to create a usable dataset for EDA"
   ]
  },
  {
   "cell_type": "code",
   "execution_count": 19,
   "id": "34eb2089-7a79-4f49-89f9-223fabb61d63",
   "metadata": {},
   "outputs": [
    {
     "name": "stdout",
     "output_type": "stream",
     "text": [
      "<class 'pandas.core.frame.DataFrame'>\n",
      "RangeIndex: 4392 entries, 0 to 4391\n",
      "Data columns (total 34 columns):\n",
      " #   Column                      Non-Null Count  Dtype  \n",
      "---  ------                      --------------  -----  \n",
      " 0   IndicatorCode               4392 non-null   object \n",
      " 1   Indicator                   4392 non-null   object \n",
      " 2   ValueType                   4392 non-null   object \n",
      " 3   ParentLocationCode          4392 non-null   object \n",
      " 4   ParentLocation              4392 non-null   object \n",
      " 5   Location type               4392 non-null   object \n",
      " 6   SpatialDimValueCode         4392 non-null   object \n",
      " 7   Location                    4392 non-null   object \n",
      " 8   Period type                 4392 non-null   object \n",
      " 9   Period                      4392 non-null   int64  \n",
      " 10  IsLatestYear                4392 non-null   bool   \n",
      " 11  Dim1 type                   4392 non-null   object \n",
      " 12  Dim1                        4392 non-null   object \n",
      " 13  Dim1ValueCode               4392 non-null   object \n",
      " 14  Dim2 type                   4392 non-null   object \n",
      " 15  Dim2                        4392 non-null   object \n",
      " 16  Dim2ValueCode               4392 non-null   object \n",
      " 17  Dim3 type                   0 non-null      float64\n",
      " 18  Dim3                        0 non-null      float64\n",
      " 19  Dim3ValueCode               0 non-null      float64\n",
      " 20  DataSourceDimValueCode      0 non-null      float64\n",
      " 21  DataSource                  0 non-null      float64\n",
      " 22  FactValueNumericPrefix      0 non-null      float64\n",
      " 23  FactValueNumeric            4392 non-null   float64\n",
      " 24  FactValueUoM                0 non-null      float64\n",
      " 25  FactValueNumericLowPrefix   0 non-null      float64\n",
      " 26  FactValueNumericLow         0 non-null      float64\n",
      " 27  FactValueNumericHighPrefix  0 non-null      float64\n",
      " 28  FactValueNumericHigh        0 non-null      float64\n",
      " 29  Value                       4392 non-null   float64\n",
      " 30  FactValueTranslationID      0 non-null      float64\n",
      " 31  FactComments                0 non-null      float64\n",
      " 32  Language                    4392 non-null   object \n",
      " 33  DateModified                4392 non-null   object \n",
      "dtypes: bool(1), float64(15), int64(1), object(17)\n",
      "memory usage: 1.1+ MB\n"
     ]
    }
   ],
   "source": [
    "# Check columns to identify which columns to drop that contain missing data over 60%\n",
    "suicides.info()"
   ]
  },
  {
   "cell_type": "code",
   "execution_count": 20,
   "id": "7938aee8-7623-4540-a0a6-99d2d8e87f89",
   "metadata": {},
   "outputs": [
    {
     "data": {
      "text/html": [
       "<div>\n",
       "<style scoped>\n",
       "    .dataframe tbody tr th:only-of-type {\n",
       "        vertical-align: middle;\n",
       "    }\n",
       "\n",
       "    .dataframe tbody tr th {\n",
       "        vertical-align: top;\n",
       "    }\n",
       "\n",
       "    .dataframe thead th {\n",
       "        text-align: right;\n",
       "    }\n",
       "</style>\n",
       "<table border=\"1\" class=\"dataframe\">\n",
       "  <thead>\n",
       "    <tr style=\"text-align: right;\">\n",
       "      <th></th>\n",
       "      <th>IndicatorCode</th>\n",
       "      <th>Indicator</th>\n",
       "      <th>ValueType</th>\n",
       "      <th>ParentLocationCode</th>\n",
       "      <th>ParentLocation</th>\n",
       "      <th>Location type</th>\n",
       "      <th>SpatialDimValueCode</th>\n",
       "      <th>Location</th>\n",
       "      <th>Period type</th>\n",
       "      <th>Period</th>\n",
       "      <th>...</th>\n",
       "      <th>Dim1 type</th>\n",
       "      <th>Dim1</th>\n",
       "      <th>Dim1ValueCode</th>\n",
       "      <th>Dim2 type</th>\n",
       "      <th>Dim2</th>\n",
       "      <th>Dim2ValueCode</th>\n",
       "      <th>FactValueNumeric</th>\n",
       "      <th>Value</th>\n",
       "      <th>Language</th>\n",
       "      <th>DateModified</th>\n",
       "    </tr>\n",
       "  </thead>\n",
       "  <tbody>\n",
       "    <tr>\n",
       "      <th>0</th>\n",
       "      <td>SDGSUICIDE</td>\n",
       "      <td>Crude suicide rates (per 100 000 population)</td>\n",
       "      <td>text</td>\n",
       "      <td>AMR</td>\n",
       "      <td>Americas</td>\n",
       "      <td>Country</td>\n",
       "      <td>ATG</td>\n",
       "      <td>Antigua and Barbuda</td>\n",
       "      <td>Year</td>\n",
       "      <td>2019</td>\n",
       "      <td>...</td>\n",
       "      <td>Sex</td>\n",
       "      <td>Both sexes</td>\n",
       "      <td>BTSX</td>\n",
       "      <td>Age Group</td>\n",
       "      <td>15-24 years</td>\n",
       "      <td>YEARS15-24</td>\n",
       "      <td>0.0</td>\n",
       "      <td>0.0</td>\n",
       "      <td>EN</td>\n",
       "      <td>2021-07-06T04:00:00.000Z</td>\n",
       "    </tr>\n",
       "    <tr>\n",
       "      <th>1</th>\n",
       "      <td>SDGSUICIDE</td>\n",
       "      <td>Crude suicide rates (per 100 000 population)</td>\n",
       "      <td>text</td>\n",
       "      <td>AMR</td>\n",
       "      <td>Americas</td>\n",
       "      <td>Country</td>\n",
       "      <td>ATG</td>\n",
       "      <td>Antigua and Barbuda</td>\n",
       "      <td>Year</td>\n",
       "      <td>2019</td>\n",
       "      <td>...</td>\n",
       "      <td>Sex</td>\n",
       "      <td>Both sexes</td>\n",
       "      <td>BTSX</td>\n",
       "      <td>Age Group</td>\n",
       "      <td>25-34 years of age</td>\n",
       "      <td>YEARS25-34</td>\n",
       "      <td>0.0</td>\n",
       "      <td>0.0</td>\n",
       "      <td>EN</td>\n",
       "      <td>2021-07-06T04:00:00.000Z</td>\n",
       "    </tr>\n",
       "    <tr>\n",
       "      <th>2</th>\n",
       "      <td>SDGSUICIDE</td>\n",
       "      <td>Crude suicide rates (per 100 000 population)</td>\n",
       "      <td>text</td>\n",
       "      <td>AMR</td>\n",
       "      <td>Americas</td>\n",
       "      <td>Country</td>\n",
       "      <td>ATG</td>\n",
       "      <td>Antigua and Barbuda</td>\n",
       "      <td>Year</td>\n",
       "      <td>2019</td>\n",
       "      <td>...</td>\n",
       "      <td>Sex</td>\n",
       "      <td>Both sexes</td>\n",
       "      <td>BTSX</td>\n",
       "      <td>Age Group</td>\n",
       "      <td>35-44 years of age</td>\n",
       "      <td>YEARS35-44</td>\n",
       "      <td>0.0</td>\n",
       "      <td>0.0</td>\n",
       "      <td>EN</td>\n",
       "      <td>2021-07-06T04:00:00.000Z</td>\n",
       "    </tr>\n",
       "    <tr>\n",
       "      <th>3</th>\n",
       "      <td>SDGSUICIDE</td>\n",
       "      <td>Crude suicide rates (per 100 000 population)</td>\n",
       "      <td>text</td>\n",
       "      <td>AMR</td>\n",
       "      <td>Americas</td>\n",
       "      <td>Country</td>\n",
       "      <td>ATG</td>\n",
       "      <td>Antigua and Barbuda</td>\n",
       "      <td>Year</td>\n",
       "      <td>2019</td>\n",
       "      <td>...</td>\n",
       "      <td>Sex</td>\n",
       "      <td>Both sexes</td>\n",
       "      <td>BTSX</td>\n",
       "      <td>Age Group</td>\n",
       "      <td>45-54 years</td>\n",
       "      <td>YEARS45-54</td>\n",
       "      <td>0.0</td>\n",
       "      <td>0.0</td>\n",
       "      <td>EN</td>\n",
       "      <td>2021-07-06T04:00:00.000Z</td>\n",
       "    </tr>\n",
       "    <tr>\n",
       "      <th>4</th>\n",
       "      <td>SDGSUICIDE</td>\n",
       "      <td>Crude suicide rates (per 100 000 population)</td>\n",
       "      <td>text</td>\n",
       "      <td>AMR</td>\n",
       "      <td>Americas</td>\n",
       "      <td>Country</td>\n",
       "      <td>ATG</td>\n",
       "      <td>Antigua and Barbuda</td>\n",
       "      <td>Year</td>\n",
       "      <td>2019</td>\n",
       "      <td>...</td>\n",
       "      <td>Sex</td>\n",
       "      <td>Both sexes</td>\n",
       "      <td>BTSX</td>\n",
       "      <td>Age Group</td>\n",
       "      <td>65-74 years</td>\n",
       "      <td>YEARS65-74</td>\n",
       "      <td>0.0</td>\n",
       "      <td>0.0</td>\n",
       "      <td>EN</td>\n",
       "      <td>2021-07-06T04:00:00.000Z</td>\n",
       "    </tr>\n",
       "  </tbody>\n",
       "</table>\n",
       "<p>5 rows × 21 columns</p>\n",
       "</div>"
      ],
      "text/plain": [
       "  IndicatorCode                                     Indicator ValueType  \\\n",
       "0    SDGSUICIDE  Crude suicide rates (per 100 000 population)      text   \n",
       "1    SDGSUICIDE  Crude suicide rates (per 100 000 population)      text   \n",
       "2    SDGSUICIDE  Crude suicide rates (per 100 000 population)      text   \n",
       "3    SDGSUICIDE  Crude suicide rates (per 100 000 population)      text   \n",
       "4    SDGSUICIDE  Crude suicide rates (per 100 000 population)      text   \n",
       "\n",
       "  ParentLocationCode ParentLocation Location type SpatialDimValueCode  \\\n",
       "0                AMR       Americas       Country                 ATG   \n",
       "1                AMR       Americas       Country                 ATG   \n",
       "2                AMR       Americas       Country                 ATG   \n",
       "3                AMR       Americas       Country                 ATG   \n",
       "4                AMR       Americas       Country                 ATG   \n",
       "\n",
       "              Location Period type  Period  ...  Dim1 type        Dim1  \\\n",
       "0  Antigua and Barbuda        Year    2019  ...        Sex  Both sexes   \n",
       "1  Antigua and Barbuda        Year    2019  ...        Sex  Both sexes   \n",
       "2  Antigua and Barbuda        Year    2019  ...        Sex  Both sexes   \n",
       "3  Antigua and Barbuda        Year    2019  ...        Sex  Both sexes   \n",
       "4  Antigua and Barbuda        Year    2019  ...        Sex  Both sexes   \n",
       "\n",
       "  Dim1ValueCode  Dim2 type                Dim2 Dim2ValueCode FactValueNumeric  \\\n",
       "0          BTSX  Age Group         15-24 years    YEARS15-24              0.0   \n",
       "1          BTSX  Age Group  25-34 years of age    YEARS25-34              0.0   \n",
       "2          BTSX  Age Group  35-44 years of age    YEARS35-44              0.0   \n",
       "3          BTSX  Age Group         45-54 years    YEARS45-54              0.0   \n",
       "4          BTSX  Age Group         65-74 years    YEARS65-74              0.0   \n",
       "\n",
       "   Value  Language              DateModified  \n",
       "0    0.0        EN  2021-07-06T04:00:00.000Z  \n",
       "1    0.0        EN  2021-07-06T04:00:00.000Z  \n",
       "2    0.0        EN  2021-07-06T04:00:00.000Z  \n",
       "3    0.0        EN  2021-07-06T04:00:00.000Z  \n",
       "4    0.0        EN  2021-07-06T04:00:00.000Z  \n",
       "\n",
       "[5 rows x 21 columns]"
      ]
     },
     "execution_count": 20,
     "metadata": {},
     "output_type": "execute_result"
    }
   ],
   "source": [
    "# Drop missing data columns to clean the dataset\n",
    "suicides.dropna(axis='columns', how='all', inplace=True)\n",
    "suicides.head()"
   ]
  },
  {
   "cell_type": "code",
   "execution_count": 21,
   "id": "6f5091da-59c7-409f-95f4-0c81fb1bf1e8",
   "metadata": {},
   "outputs": [
    {
     "data": {
      "text/plain": [
       "YEARS15-24     549\n",
       "YEARS25-34     549\n",
       "YEARS35-44     549\n",
       "YEARS45-54     549\n",
       "YEARS65-74     549\n",
       "YEARS75-84     549\n",
       "YEARS85PLUS    549\n",
       "YEARS55-64     549\n",
       "Name: Dim2ValueCode, dtype: int64"
      ]
     },
     "execution_count": 21,
     "metadata": {},
     "output_type": "execute_result"
    }
   ],
   "source": [
    "#Check values of Dim2ValueCode to determine how to split the strings\n",
    "suicides.Dim2ValueCode.value_counts()"
   ]
  },
  {
   "cell_type": "code",
   "execution_count": 22,
   "id": "5b6c433f-6517-4600-adf5-50c7603cd382",
   "metadata": {},
   "outputs": [
    {
     "name": "stdout",
     "output_type": "stream",
     "text": [
      "15-24     549\n",
      "25-34     549\n",
      "35-44     549\n",
      "45-54     549\n",
      "65-74     549\n",
      "75-84     549\n",
      "85PLUS    549\n",
      "55-64     549\n",
      "Name: Dim2ValueCode, dtype: int64\n"
     ]
    },
    {
     "data": {
      "text/html": [
       "<div>\n",
       "<style scoped>\n",
       "    .dataframe tbody tr th:only-of-type {\n",
       "        vertical-align: middle;\n",
       "    }\n",
       "\n",
       "    .dataframe tbody tr th {\n",
       "        vertical-align: top;\n",
       "    }\n",
       "\n",
       "    .dataframe thead th {\n",
       "        text-align: right;\n",
       "    }\n",
       "</style>\n",
       "<table border=\"1\" class=\"dataframe\">\n",
       "  <thead>\n",
       "    <tr style=\"text-align: right;\">\n",
       "      <th></th>\n",
       "      <th>IndicatorCode</th>\n",
       "      <th>Indicator</th>\n",
       "      <th>ValueType</th>\n",
       "      <th>ParentLocationCode</th>\n",
       "      <th>ParentLocation</th>\n",
       "      <th>Location type</th>\n",
       "      <th>SpatialDimValueCode</th>\n",
       "      <th>Location</th>\n",
       "      <th>Period type</th>\n",
       "      <th>Period</th>\n",
       "      <th>...</th>\n",
       "      <th>Dim1 type</th>\n",
       "      <th>Dim1</th>\n",
       "      <th>Dim1ValueCode</th>\n",
       "      <th>Dim2 type</th>\n",
       "      <th>Dim2</th>\n",
       "      <th>Dim2ValueCode</th>\n",
       "      <th>FactValueNumeric</th>\n",
       "      <th>Value</th>\n",
       "      <th>Language</th>\n",
       "      <th>DateModified</th>\n",
       "    </tr>\n",
       "  </thead>\n",
       "  <tbody>\n",
       "    <tr>\n",
       "      <th>0</th>\n",
       "      <td>SDGSUICIDE</td>\n",
       "      <td>Crude suicide rates (per 100 000 population)</td>\n",
       "      <td>text</td>\n",
       "      <td>AMR</td>\n",
       "      <td>Americas</td>\n",
       "      <td>Country</td>\n",
       "      <td>ATG</td>\n",
       "      <td>Antigua and Barbuda</td>\n",
       "      <td>Year</td>\n",
       "      <td>2019</td>\n",
       "      <td>...</td>\n",
       "      <td>Sex</td>\n",
       "      <td>Both sexes</td>\n",
       "      <td>BTSX</td>\n",
       "      <td>Age Group</td>\n",
       "      <td>15-24 years</td>\n",
       "      <td>15-24</td>\n",
       "      <td>0.0</td>\n",
       "      <td>0.0</td>\n",
       "      <td>EN</td>\n",
       "      <td>2021-07-06T04:00:00.000Z</td>\n",
       "    </tr>\n",
       "    <tr>\n",
       "      <th>1</th>\n",
       "      <td>SDGSUICIDE</td>\n",
       "      <td>Crude suicide rates (per 100 000 population)</td>\n",
       "      <td>text</td>\n",
       "      <td>AMR</td>\n",
       "      <td>Americas</td>\n",
       "      <td>Country</td>\n",
       "      <td>ATG</td>\n",
       "      <td>Antigua and Barbuda</td>\n",
       "      <td>Year</td>\n",
       "      <td>2019</td>\n",
       "      <td>...</td>\n",
       "      <td>Sex</td>\n",
       "      <td>Both sexes</td>\n",
       "      <td>BTSX</td>\n",
       "      <td>Age Group</td>\n",
       "      <td>25-34 years of age</td>\n",
       "      <td>25-34</td>\n",
       "      <td>0.0</td>\n",
       "      <td>0.0</td>\n",
       "      <td>EN</td>\n",
       "      <td>2021-07-06T04:00:00.000Z</td>\n",
       "    </tr>\n",
       "    <tr>\n",
       "      <th>2</th>\n",
       "      <td>SDGSUICIDE</td>\n",
       "      <td>Crude suicide rates (per 100 000 population)</td>\n",
       "      <td>text</td>\n",
       "      <td>AMR</td>\n",
       "      <td>Americas</td>\n",
       "      <td>Country</td>\n",
       "      <td>ATG</td>\n",
       "      <td>Antigua and Barbuda</td>\n",
       "      <td>Year</td>\n",
       "      <td>2019</td>\n",
       "      <td>...</td>\n",
       "      <td>Sex</td>\n",
       "      <td>Both sexes</td>\n",
       "      <td>BTSX</td>\n",
       "      <td>Age Group</td>\n",
       "      <td>35-44 years of age</td>\n",
       "      <td>35-44</td>\n",
       "      <td>0.0</td>\n",
       "      <td>0.0</td>\n",
       "      <td>EN</td>\n",
       "      <td>2021-07-06T04:00:00.000Z</td>\n",
       "    </tr>\n",
       "    <tr>\n",
       "      <th>3</th>\n",
       "      <td>SDGSUICIDE</td>\n",
       "      <td>Crude suicide rates (per 100 000 population)</td>\n",
       "      <td>text</td>\n",
       "      <td>AMR</td>\n",
       "      <td>Americas</td>\n",
       "      <td>Country</td>\n",
       "      <td>ATG</td>\n",
       "      <td>Antigua and Barbuda</td>\n",
       "      <td>Year</td>\n",
       "      <td>2019</td>\n",
       "      <td>...</td>\n",
       "      <td>Sex</td>\n",
       "      <td>Both sexes</td>\n",
       "      <td>BTSX</td>\n",
       "      <td>Age Group</td>\n",
       "      <td>45-54 years</td>\n",
       "      <td>45-54</td>\n",
       "      <td>0.0</td>\n",
       "      <td>0.0</td>\n",
       "      <td>EN</td>\n",
       "      <td>2021-07-06T04:00:00.000Z</td>\n",
       "    </tr>\n",
       "    <tr>\n",
       "      <th>4</th>\n",
       "      <td>SDGSUICIDE</td>\n",
       "      <td>Crude suicide rates (per 100 000 population)</td>\n",
       "      <td>text</td>\n",
       "      <td>AMR</td>\n",
       "      <td>Americas</td>\n",
       "      <td>Country</td>\n",
       "      <td>ATG</td>\n",
       "      <td>Antigua and Barbuda</td>\n",
       "      <td>Year</td>\n",
       "      <td>2019</td>\n",
       "      <td>...</td>\n",
       "      <td>Sex</td>\n",
       "      <td>Both sexes</td>\n",
       "      <td>BTSX</td>\n",
       "      <td>Age Group</td>\n",
       "      <td>65-74 years</td>\n",
       "      <td>65-74</td>\n",
       "      <td>0.0</td>\n",
       "      <td>0.0</td>\n",
       "      <td>EN</td>\n",
       "      <td>2021-07-06T04:00:00.000Z</td>\n",
       "    </tr>\n",
       "  </tbody>\n",
       "</table>\n",
       "<p>5 rows × 21 columns</p>\n",
       "</div>"
      ],
      "text/plain": [
       "  IndicatorCode                                     Indicator ValueType  \\\n",
       "0    SDGSUICIDE  Crude suicide rates (per 100 000 population)      text   \n",
       "1    SDGSUICIDE  Crude suicide rates (per 100 000 population)      text   \n",
       "2    SDGSUICIDE  Crude suicide rates (per 100 000 population)      text   \n",
       "3    SDGSUICIDE  Crude suicide rates (per 100 000 population)      text   \n",
       "4    SDGSUICIDE  Crude suicide rates (per 100 000 population)      text   \n",
       "\n",
       "  ParentLocationCode ParentLocation Location type SpatialDimValueCode  \\\n",
       "0                AMR       Americas       Country                 ATG   \n",
       "1                AMR       Americas       Country                 ATG   \n",
       "2                AMR       Americas       Country                 ATG   \n",
       "3                AMR       Americas       Country                 ATG   \n",
       "4                AMR       Americas       Country                 ATG   \n",
       "\n",
       "              Location Period type  Period  ...  Dim1 type        Dim1  \\\n",
       "0  Antigua and Barbuda        Year    2019  ...        Sex  Both sexes   \n",
       "1  Antigua and Barbuda        Year    2019  ...        Sex  Both sexes   \n",
       "2  Antigua and Barbuda        Year    2019  ...        Sex  Both sexes   \n",
       "3  Antigua and Barbuda        Year    2019  ...        Sex  Both sexes   \n",
       "4  Antigua and Barbuda        Year    2019  ...        Sex  Both sexes   \n",
       "\n",
       "  Dim1ValueCode  Dim2 type                Dim2 Dim2ValueCode FactValueNumeric  \\\n",
       "0          BTSX  Age Group         15-24 years         15-24              0.0   \n",
       "1          BTSX  Age Group  25-34 years of age         25-34              0.0   \n",
       "2          BTSX  Age Group  35-44 years of age         35-44              0.0   \n",
       "3          BTSX  Age Group         45-54 years         45-54              0.0   \n",
       "4          BTSX  Age Group         65-74 years         65-74              0.0   \n",
       "\n",
       "   Value  Language              DateModified  \n",
       "0    0.0        EN  2021-07-06T04:00:00.000Z  \n",
       "1    0.0        EN  2021-07-06T04:00:00.000Z  \n",
       "2    0.0        EN  2021-07-06T04:00:00.000Z  \n",
       "3    0.0        EN  2021-07-06T04:00:00.000Z  \n",
       "4    0.0        EN  2021-07-06T04:00:00.000Z  \n",
       "\n",
       "[5 rows x 21 columns]"
      ]
     },
     "execution_count": 22,
     "metadata": {},
     "output_type": "execute_result"
    }
   ],
   "source": [
    "#Replace YEARS with \"\" to prep for a column split\n",
    "suicides['Dim2ValueCode'] = suicides['Dim2ValueCode'].replace('YEARS', '', regex=True)\n",
    "print(suicides['Dim2ValueCode'].value_counts())\n",
    "\n",
    "#Check dataframe for accurate split and new columns\n",
    "suicides.head()"
   ]
  },
  {
   "cell_type": "code",
   "execution_count": null,
   "id": "3e92877d-cee1-4a70-bd74-c2eb8ba66b31",
   "metadata": {},
   "outputs": [],
   "source": []
  },
  {
   "cell_type": "code",
   "execution_count": 23,
   "id": "29f6175f-9bd2-498c-9345-9c932e2ac6ce",
   "metadata": {
    "tags": []
   },
   "outputs": [
    {
     "name": "stdout",
     "output_type": "stream",
     "text": [
      "['IndicatorCode', 'Indicator', 'ValueType', 'ParentLocationCode', 'ParentLocation', 'Location type', 'SpatialDimValueCode', 'Location', 'Period type', 'Period', 'IsLatestYear', 'Dim1 type', 'Dim1', 'Dim1ValueCode', 'Dim2 type', 'Dim2', 'Dim2ValueCode', 'FactValueNumeric', 'Value', 'Language', 'DateModified']\n"
     ]
    }
   ],
   "source": [
    "# Identify columns to remove to create a clean dataset for EDA\n",
    "suicide_columns = suicides.columns.to_list()\n",
    "print(suicide_columns)\n",
    "\n",
    "#Add desired columns to a list\n",
    "desired_columns = ['ParentLocation', 'Location', 'Value', 'Dim1', 'Dim2ValueCode']"
   ]
  },
  {
   "cell_type": "markdown",
   "id": "e481f4e6-391c-4479-a4e1-5011be8f76c1",
   "metadata": {
    "tags": []
   },
   "source": [
    "### Chosing columns for EDA (Metadata)"
   ]
  },
  {
   "cell_type": "markdown",
   "id": "6495e902-9002-44fc-9ba7-d3d666348f09",
   "metadata": {},
   "source": [
    "-- Metadata on columns for Crude Suicide Rates (per 100 000 population)-- <br>\n",
    "ParentLocation = Region ('Americas', 'Western Pacific', 'Europe', 'Africa', 'South-East Asia', 'Eastern Mediterranean') <br>\n",
    "Location = Country data surveyed (Multitude) <br>\n",
    "Period = Year data collected <br>\n",
    "Value = Crude Suicide Rates (per 100 000 population) <br>\n",
    "Sex = Gender (Male/Female/Both) <br>\n",
    "AgeMin / AgeMax = Age ranges for data (Assume 100 yrs old is max)"
   ]
  },
  {
   "cell_type": "code",
   "execution_count": 24,
   "id": "84bac3d9-e1cf-4e15-8631-4503ff7613b0",
   "metadata": {},
   "outputs": [
    {
     "data": {
      "text/html": [
       "<div>\n",
       "<style scoped>\n",
       "    .dataframe tbody tr th:only-of-type {\n",
       "        vertical-align: middle;\n",
       "    }\n",
       "\n",
       "    .dataframe tbody tr th {\n",
       "        vertical-align: top;\n",
       "    }\n",
       "\n",
       "    .dataframe thead th {\n",
       "        text-align: right;\n",
       "    }\n",
       "</style>\n",
       "<table border=\"1\" class=\"dataframe\">\n",
       "  <thead>\n",
       "    <tr style=\"text-align: right;\">\n",
       "      <th></th>\n",
       "      <th>region</th>\n",
       "      <th>country</th>\n",
       "      <th>suicide_rate</th>\n",
       "      <th>sex</th>\n",
       "      <th>age_range</th>\n",
       "    </tr>\n",
       "  </thead>\n",
       "  <tbody>\n",
       "    <tr>\n",
       "      <th>0</th>\n",
       "      <td>Americas</td>\n",
       "      <td>Antigua and Barbuda</td>\n",
       "      <td>0.0</td>\n",
       "      <td>Both sexes</td>\n",
       "      <td>15-24</td>\n",
       "    </tr>\n",
       "    <tr>\n",
       "      <th>1</th>\n",
       "      <td>Americas</td>\n",
       "      <td>Antigua and Barbuda</td>\n",
       "      <td>0.0</td>\n",
       "      <td>Both sexes</td>\n",
       "      <td>25-34</td>\n",
       "    </tr>\n",
       "    <tr>\n",
       "      <th>2</th>\n",
       "      <td>Americas</td>\n",
       "      <td>Antigua and Barbuda</td>\n",
       "      <td>0.0</td>\n",
       "      <td>Both sexes</td>\n",
       "      <td>35-44</td>\n",
       "    </tr>\n",
       "    <tr>\n",
       "      <th>3</th>\n",
       "      <td>Americas</td>\n",
       "      <td>Antigua and Barbuda</td>\n",
       "      <td>0.0</td>\n",
       "      <td>Both sexes</td>\n",
       "      <td>45-54</td>\n",
       "    </tr>\n",
       "    <tr>\n",
       "      <th>4</th>\n",
       "      <td>Americas</td>\n",
       "      <td>Antigua and Barbuda</td>\n",
       "      <td>0.0</td>\n",
       "      <td>Both sexes</td>\n",
       "      <td>65-74</td>\n",
       "    </tr>\n",
       "  </tbody>\n",
       "</table>\n",
       "</div>"
      ],
      "text/plain": [
       "     region              country  suicide_rate         sex age_range\n",
       "0  Americas  Antigua and Barbuda           0.0  Both sexes     15-24\n",
       "1  Americas  Antigua and Barbuda           0.0  Both sexes     25-34\n",
       "2  Americas  Antigua and Barbuda           0.0  Both sexes     35-44\n",
       "3  Americas  Antigua and Barbuda           0.0  Both sexes     45-54\n",
       "4  Americas  Antigua and Barbuda           0.0  Both sexes     65-74"
      ]
     },
     "execution_count": 24,
     "metadata": {},
     "output_type": "execute_result"
    }
   ],
   "source": [
    "suicides_clean = suicides[desired_columns].rename(columns={'Dim1': 'sex', 'Dim2ValueCode': 'age_range', 'ParentLocation': 'region', 'Location': 'country', 'Value': 'suicide_rate'})\n",
    "suicides_clean.head()"
   ]
  },
  {
   "cell_type": "code",
   "execution_count": 25,
   "id": "1aada66b-c317-439d-887b-d71d7367000d",
   "metadata": {},
   "outputs": [
    {
     "data": {
      "text/plain": [
       "Both      1464\n",
       "Female    1464\n",
       "Male      1464\n",
       "Name: sex, dtype: int64"
      ]
     },
     "execution_count": 25,
     "metadata": {},
     "output_type": "execute_result"
    }
   ],
   "source": [
    "# Adjust Sex column where Both sexes = Both for simplicity\n",
    "suicides_clean['sex'] = suicides_clean.sex.apply(lambda sex: 'Both' if sex == 'Both sexes' else sex)\n",
    "\n",
    "# Check for correct changes\n",
    "suicides_clean.sex.value_counts()"
   ]
  },
  {
   "cell_type": "code",
   "execution_count": 26,
   "id": "0db279a2-e4ee-40ad-8bc5-350d9e4eb8f0",
   "metadata": {},
   "outputs": [
    {
     "data": {
      "text/html": [
       "<div>\n",
       "<style scoped>\n",
       "    .dataframe tbody tr th:only-of-type {\n",
       "        vertical-align: middle;\n",
       "    }\n",
       "\n",
       "    .dataframe tbody tr th {\n",
       "        vertical-align: top;\n",
       "    }\n",
       "\n",
       "    .dataframe thead th {\n",
       "        text-align: right;\n",
       "    }\n",
       "</style>\n",
       "<table border=\"1\" class=\"dataframe\">\n",
       "  <thead>\n",
       "    <tr style=\"text-align: right;\">\n",
       "      <th></th>\n",
       "      <th>region</th>\n",
       "      <th>country</th>\n",
       "      <th>suicide_rate</th>\n",
       "      <th>sex</th>\n",
       "      <th>age_range</th>\n",
       "    </tr>\n",
       "  </thead>\n",
       "  <tbody>\n",
       "    <tr>\n",
       "      <th>7</th>\n",
       "      <td>Americas</td>\n",
       "      <td>Antigua and Barbuda</td>\n",
       "      <td>0.0</td>\n",
       "      <td>Female</td>\n",
       "      <td>15-24</td>\n",
       "    </tr>\n",
       "    <tr>\n",
       "      <th>8</th>\n",
       "      <td>Americas</td>\n",
       "      <td>Antigua and Barbuda</td>\n",
       "      <td>0.0</td>\n",
       "      <td>Female</td>\n",
       "      <td>25-34</td>\n",
       "    </tr>\n",
       "    <tr>\n",
       "      <th>9</th>\n",
       "      <td>Americas</td>\n",
       "      <td>Antigua and Barbuda</td>\n",
       "      <td>0.0</td>\n",
       "      <td>Female</td>\n",
       "      <td>35-44</td>\n",
       "    </tr>\n",
       "    <tr>\n",
       "      <th>10</th>\n",
       "      <td>Americas</td>\n",
       "      <td>Antigua and Barbuda</td>\n",
       "      <td>0.0</td>\n",
       "      <td>Female</td>\n",
       "      <td>45-54</td>\n",
       "    </tr>\n",
       "    <tr>\n",
       "      <th>11</th>\n",
       "      <td>Americas</td>\n",
       "      <td>Antigua and Barbuda</td>\n",
       "      <td>0.0</td>\n",
       "      <td>Female</td>\n",
       "      <td>65-74</td>\n",
       "    </tr>\n",
       "  </tbody>\n",
       "</table>\n",
       "</div>"
      ],
      "text/plain": [
       "      region              country  suicide_rate     sex age_range\n",
       "7   Americas  Antigua and Barbuda           0.0  Female     15-24\n",
       "8   Americas  Antigua and Barbuda           0.0  Female     25-34\n",
       "9   Americas  Antigua and Barbuda           0.0  Female     35-44\n",
       "10  Americas  Antigua and Barbuda           0.0  Female     45-54\n",
       "11  Americas  Antigua and Barbuda           0.0  Female     65-74"
      ]
     },
     "execution_count": 26,
     "metadata": {},
     "output_type": "execute_result"
    }
   ],
   "source": [
    "# Remove the redundant Both category in sexes for future EDA (Compare Male to Female only)\n",
    "suicides_clean = suicides_clean[suicides_clean.sex != 'Both']\n",
    "suicides_clean.head()"
   ]
  },
  {
   "cell_type": "markdown",
   "id": "317a3cf8-d720-429e-bbdb-6c49a2e56aea",
   "metadata": {},
   "source": [
    "### Check/adjust data types to complete data cleaning"
   ]
  },
  {
   "cell_type": "code",
   "execution_count": 66,
   "id": "fd4c9903-363f-420a-afde-9cc524e8db91",
   "metadata": {},
   "outputs": [
    {
     "ename": "NameError",
     "evalue": "name 'missing_data_check' is not defined",
     "output_type": "error",
     "traceback": [
      "\u001b[1;31m---------------------------------------------------------------------------\u001b[0m",
      "\u001b[1;31mNameError\u001b[0m                                 Traceback (most recent call last)",
      "\u001b[1;32mc:\\Users\\Christian\\HealthcareSuicideRates\\Suicides.ipynb Cell 19\u001b[0m in \u001b[0;36m<cell line: 1>\u001b[1;34m()\u001b[0m\n\u001b[1;32m----> <a href='vscode-notebook-cell:/c%3A/Users/Christian/HealthcareSuicideRates/Suicides.ipynb#X24sZmlsZQ%3D%3D?line=0'>1</a>\u001b[0m missing_data_check(suicides_clean)\n",
      "\u001b[1;31mNameError\u001b[0m: name 'missing_data_check' is not defined"
     ]
    }
   ],
   "source": [
    "missing_data_check(suicides_clean)"
   ]
  },
  {
   "cell_type": "markdown",
   "id": "5dbf7541-013f-4370-8d59-1be12f879cdd",
   "metadata": {},
   "source": [
    "### Univariate Data Profiling"
   ]
  },
  {
   "cell_type": "markdown",
   "id": "4c3c9d4c-8b2d-444b-b57f-47166dccc2a8",
   "metadata": {},
   "source": [
    "Initial summary statistics to get a general picture of the data. <br>\n",
    "Also to generate questions to answer using the data and potential model building"
   ]
  },
  {
   "cell_type": "code",
   "execution_count": 29,
   "id": "718d223f-e8a9-46e5-a4bb-481130d0aef2",
   "metadata": {},
   "outputs": [
    {
     "data": {
      "text/html": [
       "<div>\n",
       "<style scoped>\n",
       "    .dataframe tbody tr th:only-of-type {\n",
       "        vertical-align: middle;\n",
       "    }\n",
       "\n",
       "    .dataframe tbody tr th {\n",
       "        vertical-align: top;\n",
       "    }\n",
       "\n",
       "    .dataframe thead th {\n",
       "        text-align: right;\n",
       "    }\n",
       "</style>\n",
       "<table border=\"1\" class=\"dataframe\">\n",
       "  <thead>\n",
       "    <tr style=\"text-align: right;\">\n",
       "      <th></th>\n",
       "      <th>suicide_rate</th>\n",
       "    </tr>\n",
       "  </thead>\n",
       "  <tbody>\n",
       "    <tr>\n",
       "      <th>count</th>\n",
       "      <td>2928.000000</td>\n",
       "    </tr>\n",
       "    <tr>\n",
       "      <th>mean</th>\n",
       "      <td>24.101752</td>\n",
       "    </tr>\n",
       "    <tr>\n",
       "      <th>std</th>\n",
       "      <td>48.511200</td>\n",
       "    </tr>\n",
       "    <tr>\n",
       "      <th>min</th>\n",
       "      <td>0.000000</td>\n",
       "    </tr>\n",
       "    <tr>\n",
       "      <th>25%</th>\n",
       "      <td>4.227500</td>\n",
       "    </tr>\n",
       "    <tr>\n",
       "      <th>50%</th>\n",
       "      <td>10.080000</td>\n",
       "    </tr>\n",
       "    <tr>\n",
       "      <th>75%</th>\n",
       "      <td>23.395000</td>\n",
       "    </tr>\n",
       "    <tr>\n",
       "      <th>max</th>\n",
       "      <td>646.000000</td>\n",
       "    </tr>\n",
       "  </tbody>\n",
       "</table>\n",
       "</div>"
      ],
      "text/plain": [
       "       suicide_rate\n",
       "count   2928.000000\n",
       "mean      24.101752\n",
       "std       48.511200\n",
       "min        0.000000\n",
       "25%        4.227500\n",
       "50%       10.080000\n",
       "75%       23.395000\n",
       "max      646.000000"
      ]
     },
     "execution_count": 29,
     "metadata": {},
     "output_type": "execute_result"
    }
   ],
   "source": [
    "suicides_clean.describe()"
   ]
  },
  {
   "cell_type": "markdown",
   "id": "dbceb7be-468e-4340-aba4-764b2fb2fe8d",
   "metadata": {
    "tags": []
   },
   "source": [
    "##### Mean suicide rates by region"
   ]
  },
  {
   "cell_type": "code",
   "execution_count": 30,
   "id": "e7aba8a7-5b75-451a-887e-0e5d03dcca02",
   "metadata": {},
   "outputs": [
    {
     "data": {
      "image/png": "[encoded data removed]",
      "text/plain": [
       "<Figure size 432x288 with 1 Axes>"
      ]
     },
     "metadata": {
      "needs_background": "light"
     },
     "output_type": "display_data"
    }
   ],
   "source": [
    "# Visualization of the choosen summary stat to identify trends \n",
    "summary_stats_barplot(suicides_clean, np.mean, value='suicide_rate', category='region')"
   ]
  },
  {
   "cell_type": "markdown",
   "id": "1c3db028-0c85-40dd-9538-44479f5e96ae",
   "metadata": {},
   "source": [
    "Africa mean suicide rates exceed all other regions and the total average by nearly double or more<br>"
   ]
  },
  {
   "cell_type": "markdown",
   "id": "f5fd043d-43b4-4e7f-a83a-3177d9874f63",
   "metadata": {
    "tags": []
   },
   "source": [
    "##### Median suicide rates by region"
   ]
  },
  {
   "cell_type": "code",
   "execution_count": 31,
   "id": "804c9d45-7ccd-4dfd-9c69-3fddc119a2af",
   "metadata": {},
   "outputs": [
    {
     "data": {
      "image/png": "[encoded data removed]",
      "text/plain": [
       "<Figure size 432x288 with 1 Axes>"
      ]
     },
     "metadata": {
      "needs_background": "light"
     },
     "output_type": "display_data"
    }
   ],
   "source": [
    "# Visualization of the medians to identify trends\n",
    "summary_stats_barplot(suicides_clean, np.median, value='suicide_rate', category='region')"
   ]
  },
  {
   "cell_type": "markdown",
   "id": "37ac4740-d592-4da3-bd32-06f53da06f1b",
   "metadata": {},
   "source": [
    "Africa median suicide rates exceeds all other regions but not to the extent of the mean suicide rates<br>\n",
    "Median is more resistant summary statistic to outliers which can explain the differences<br>\n",
    "The presence of outliers will have to be explored with histograms/boxplots"
   ]
  },
  {
   "cell_type": "code",
   "execution_count": 32,
   "id": "ec29ef8f-6b0a-4183-be9e-82f3084c31c5",
   "metadata": {},
   "outputs": [
    {
     "data": {
      "text/plain": [
       "<AxesSubplot:xlabel='suicide_rate', ylabel='Count'>"
      ]
     },
     "execution_count": 32,
     "metadata": {},
     "output_type": "execute_result"
    },
    {
     "data": {
      "image/png": "[encoded data removed]",
      "text/plain": [
       "<Figure size 432x288 with 1 Axes>"
      ]
     },
     "metadata": {
      "needs_background": "light"
     },
     "output_type": "display_data"
    }
   ],
   "source": [
    "#Histogram to visualize the spread of the suicide rates of all countries together\n",
    "sns.histplot(data=suicides_clean, x='suicide_rate')"
   ]
  },
  {
   "cell_type": "markdown",
   "id": "3cc9ba03-6e49-434f-bd48-6fb212879596",
   "metadata": {},
   "source": [
    "Coarse search reveals right skewed spread due to outliers (All countries) <br>"
   ]
  },
  {
   "cell_type": "markdown",
   "id": "6f5f1143-4ee4-4f5a-9834-32bb3b51586f",
   "metadata": {},
   "source": [
    "#### Are the suicide rates skewed for each region?"
   ]
  },
  {
   "cell_type": "code",
   "execution_count": 33,
   "id": "9165798e-ee18-4c84-8173-7937f4afdd0f",
   "metadata": {},
   "outputs": [
    {
     "data": {
      "text/plain": [
       "<seaborn.axisgrid.FacetGrid at 0x1c541566460>"
      ]
     },
     "execution_count": 33,
     "metadata": {},
     "output_type": "execute_result"
    },
    {
     "data": {
      "image/png": "[encoded data removed]",
      "text/plain": [
       "<Figure size 1080x720 with 6 Axes>"
      ]
     },
     "metadata": {
      "needs_background": "light"
     },
     "output_type": "display_data"
    }
   ],
   "source": [
    "#Figure level plot to aid visualization\n",
    "sns.displot(data=suicides_clean, x='suicide_rate', col='region', col_wrap=3)"
   ]
  },
  {
   "cell_type": "markdown",
   "id": "67de9564-d2c5-4ebd-8a90-45cfe2d1989f",
   "metadata": {},
   "source": [
    "Spread is still right skewed at the region level <br>\n",
    "An indepth look at the IQR, median and range is needed"
   ]
  },
  {
   "cell_type": "code",
   "execution_count": 34,
   "id": "ae05ea50-941c-41e5-91be-5d3e46acc06f",
   "metadata": {},
   "outputs": [
    {
     "data": {
      "image/png": "[encoded data removed]",
      "text/plain": [
       "<Figure size 432x288 with 1 Axes>"
      ]
     },
     "metadata": {
      "needs_background": "light"
     },
     "output_type": "display_data"
    }
   ],
   "source": [
    "sorted_boxplot(suicides_clean, 'region', 'suicide_rate')"
   ]
  },
  {
   "cell_type": "markdown",
   "id": "06f66985-fa21-460f-93e2-158ec4071adf",
   "metadata": {},
   "source": [
    "Africa appears to have the largest range for suicide rates <br>\n",
    "The IQR and median is higher than other regions as well"
   ]
  },
  {
   "cell_type": "markdown",
   "id": "5cbd81f8-f1db-4b34-a506-3865fed65d5c",
   "metadata": {
    "tags": []
   },
   "source": [
    "#### Distribution of Suicide Rates by Age Range"
   ]
  },
  {
   "cell_type": "code",
   "execution_count": 35,
   "id": "2348ec27-9184-4de1-8298-a46867d37988",
   "metadata": {},
   "outputs": [
    {
     "data": {
      "image/png": "[encoded data removed]",
      "text/plain": [
       "<Figure size 432x288 with 1 Axes>"
      ]
     },
     "metadata": {
      "needs_background": "light"
     },
     "output_type": "display_data"
    }
   ],
   "source": [
    "sorted_boxplot(suicides_clean, 'age_range', 'suicide_rate')"
   ]
  },
  {
   "cell_type": "markdown",
   "id": "aa27a83a-dfa4-4a27-a12e-2170cbcb91ee",
   "metadata": {},
   "source": [
    "85Plus age range has the largest range and median<br>\n",
    "All of the age ranges have a right skewed distribution that will need to be transformed for future EDA"
   ]
  },
  {
   "cell_type": "markdown",
   "id": "dcb1e334-c267-4f97-ac35-05ff54990a5f",
   "metadata": {},
   "source": [
    "#### Distribution of Suicide Rates by Sex"
   ]
  },
  {
   "cell_type": "code",
   "execution_count": 36,
   "id": "ae8397fd-6032-4744-bb5d-fa84926e7f0d",
   "metadata": {},
   "outputs": [
    {
     "data": {
      "image/png": "[encoded data removed]",
      "text/plain": [
       "<Figure size 432x288 with 1 Axes>"
      ]
     },
     "metadata": {
      "needs_background": "light"
     },
     "output_type": "display_data"
    }
   ],
   "source": [
    "sorted_boxplot(suicides_clean, 'sex', 'suicide_rate')"
   ]
  },
  {
   "cell_type": "code",
   "execution_count": 37,
   "id": "8ee8ccd4-6fec-4ce2-aae4-f1b630e233c6",
   "metadata": {},
   "outputs": [
    {
     "data": {
      "text/plain": [
       "<AxesSubplot:xlabel='suicide_rate', ylabel='Count'>"
      ]
     },
     "execution_count": 37,
     "metadata": {},
     "output_type": "execute_result"
    },
    {
     "data": {
      "image/png": "[encoded data removed]",
      "text/plain": [
       "<Figure size 432x288 with 1 Axes>"
      ]
     },
     "metadata": {
      "needs_background": "light"
     },
     "output_type": "display_data"
    }
   ],
   "source": [
    "# Histogram to view overlap of suicide rates of males vs females\n",
    "sns.histplot(data=suicides_clean, x='suicide_rate', hue='sex', bins=30)"
   ]
  },
  {
   "cell_type": "markdown",
   "id": "4755a55f-20f1-470d-b402-3265a6643280",
   "metadata": {},
   "source": [
    "Female distribution is concentrated closer to zero<br>\n",
    "Males have a larger distribution and is skewed more heavily to the right than females"
   ]
  },
  {
   "cell_type": "markdown",
   "id": "d2556757-963d-4c0e-8da2-325408cf8bc9",
   "metadata": {
    "tags": []
   },
   "source": [
    "### Are the suicide rates for each region statiscally different?<br>\n",
    "Null Hypothesis - The suicides rates means do not differ between regions<br>\n",
    "Alt Hypothesis - Suicide rates are not equal between the regions"
   ]
  },
  {
   "cell_type": "markdown",
   "id": "06980f14-9edb-4d66-aee1-2af6eaa4ca31",
   "metadata": {
    "tags": []
   },
   "source": [
    "#### One way ANOVA Test<br>"
   ]
  },
  {
   "cell_type": "markdown",
   "id": "59d1bd14-3f1f-4e01-a4d9-f1ba32a705c6",
   "metadata": {
    "tags": []
   },
   "source": [
    "##### ANOVA Assumptions<br>\n",
    "--- Taken from codecademy ---<br>\n",
    "(1) All observations should be independently and randomly sampled<br>\n",
    "(2) The standard deviations of the groups should be equal<br>\n",
    "(3) The data should be normally distributed or the sample size should be large<br>\n",
    "(4) The groups created by the categorical variable should be independent<br>\n",
    "-------------------------------- <br>\n",
    "Signifcance Threshold = 0.05"
   ]
  },
  {
   "cell_type": "code",
   "execution_count": 38,
   "id": "da66340c-35f1-43e8-88d7-1953d689e206",
   "metadata": {},
   "outputs": [
    {
     "data": {
      "text/plain": [
       "Europe                   800\n",
       "Africa                   752\n",
       "Americas                 528\n",
       "Eastern Mediterranean    336\n",
       "Western Pacific          336\n",
       "South-East Asia          176\n",
       "Name: region, dtype: int64"
      ]
     },
     "execution_count": 38,
     "metadata": {},
     "output_type": "execute_result"
    }
   ],
   "source": [
    "# Checking for sample sizes between regions. Ideally sample sizes between categories should be close\n",
    "suicides_clean.region.value_counts()"
   ]
  },
  {
   "cell_type": "code",
   "execution_count": 39,
   "id": "ca6ba6f8-b7db-4524-bb18-59aac9ed021c",
   "metadata": {},
   "outputs": [
    {
     "name": "stdout",
     "output_type": "stream",
     "text": [
      "Eastern Mediterranean 21.408601472135317\n",
      "Europe 23.758062090561335\n",
      "Africa 81.88833938903966\n",
      "Western Pacific 28.426545602541825\n",
      "South-East Asia 20.393718864637474\n",
      "Americas 25.816426257329482\n"
     ]
    }
   ],
   "source": [
    "#Calculating std of each region to check if assumption 2 is met (std of groups should be equal)\n",
    "column_std(suicides_clean, 'region', 'suicide_rate')"
   ]
  },
  {
   "cell_type": "markdown",
   "id": "e8d6f180-34e5-45f3-8f01-f0b2ccb25e1d",
   "metadata": {},
   "source": [
    "#### Zscore Normalization"
   ]
  },
  {
   "cell_type": "code",
   "execution_count": 40,
   "id": "8ba20253-34db-4c73-841e-99a54aaa44a6",
   "metadata": {},
   "outputs": [
    {
     "name": "stdout",
     "output_type": "stream",
     "text": [
      "53 rows removed\n"
     ]
    }
   ],
   "source": [
    "#Use the zscore of the value column to reduce the effects of outliers on assumptions 2 and 3\n",
    "suicides_zscored = zscore_normalization(suicides_clean, 'suicide_rate')"
   ]
  },
  {
   "cell_type": "code",
   "execution_count": 41,
   "id": "4e08336d-fce9-4ff2-8df7-94b8a1f39772",
   "metadata": {},
   "outputs": [
    {
     "name": "stdout",
     "output_type": "stream",
     "text": [
      "Eastern Mediterranean 12.522337104637884\n",
      "Europe 20.58785978358125\n",
      "Africa 33.88010175022612\n",
      "Western Pacific 21.93085331733874\n",
      "South-East Asia 15.621246053459565\n",
      "Americas 17.96335675137849\n"
     ]
    }
   ],
   "source": [
    "#Checking std difference after zscore to meet ANOVA assumption 2\n",
    "column_std(suicides_zscored, 'region', 'suicide_rate')"
   ]
  },
  {
   "cell_type": "code",
   "execution_count": 42,
   "id": "78c2fe53-375c-4e4f-a035-f96415326a93",
   "metadata": {},
   "outputs": [
    {
     "data": {
      "text/plain": [
       "<AxesSubplot:xlabel='suicide_rate', ylabel='region'>"
      ]
     },
     "execution_count": 42,
     "metadata": {},
     "output_type": "execute_result"
    },
    {
     "data": {
      "image/png": "[encoded data removed]",
      "text/plain": [
       "<Figure size 432x288 with 1 Axes>"
      ]
     },
     "metadata": {
      "needs_background": "light"
     },
     "output_type": "display_data"
    }
   ],
   "source": [
    "#Visualization of zcored distribution for assumption 3\n",
    "sns.boxplot(data=suicides_zscored, x='suicide_rate', y='region')"
   ]
  },
  {
   "cell_type": "markdown",
   "id": "582ea44c-7618-4a61-92e8-b5ad4a9ac27a",
   "metadata": {},
   "source": [
    "Zscored boxplot of suicide rates  ----<br> \n",
    "It's easier to see Africa has a larger median, IQR and range<br>\n",
    "The Eastern Mediterranean appears to have the lowest suicide rates"
   ]
  },
  {
   "cell_type": "markdown",
   "id": "49a5c0eb-bf25-4509-b161-8311ac642073",
   "metadata": {},
   "source": [
    "#### Zscore normalization ANOVA Test"
   ]
  },
  {
   "cell_type": "code",
   "execution_count": 43,
   "id": "5152090b-6246-4088-921f-a73c5fd0f185",
   "metadata": {},
   "outputs": [
    {
     "name": "stdout",
     "output_type": "stream",
     "text": [
      "2.613614708541573e-50\n"
     ]
    }
   ],
   "source": [
    "#Anova test to determine if the pval is significant\n",
    "anova_test(suicides_zscored, 'region', 'suicide_rate')"
   ]
  },
  {
   "cell_type": "code",
   "execution_count": 44,
   "id": "b9c1e2ca-00ab-4277-871b-d0e26137aff0",
   "metadata": {},
   "outputs": [
    {
     "name": "stdout",
     "output_type": "stream",
     "text": [
      "                Multiple Comparison of Means - Tukey HSD, FWER=0.05                 \n",
      "====================================================================================\n",
      "        group1                group2        meandiff p-adj   lower    upper   reject\n",
      "------------------------------------------------------------------------------------\n",
      "               Africa              Americas -17.4895    0.0 -21.3336 -13.6454   True\n",
      "               Africa Eastern Mediterranean -19.8074    0.0 -24.2407 -15.3742   True\n",
      "               Africa                Europe -11.7295    0.0 -15.1781   -8.281   True\n",
      "               Africa       South-East Asia -15.8946    0.0 -21.5331 -10.2562   True\n",
      "               Africa       Western Pacific -10.3511    0.0 -14.7844  -5.9179   True\n",
      "             Americas Eastern Mediterranean  -2.3179 0.7184  -6.9916   2.3558  False\n",
      "             Americas                Europe   5.7599 0.0002   2.0073   9.5126   True\n",
      "             Americas       South-East Asia   1.5948 0.9709  -4.2345   7.4242  False\n",
      "             Americas       Western Pacific   7.1383 0.0002   2.4647   11.812   True\n",
      "Eastern Mediterranean                Europe   8.0779    0.0   3.7237   12.432   True\n",
      "Eastern Mediterranean       South-East Asia   3.9128 0.4724  -2.3209  10.1464  False\n",
      "Eastern Mediterranean       Western Pacific   9.4563    0.0   4.2871  14.6254   True\n",
      "               Europe       South-East Asia  -4.1651  0.272  -9.7416   1.4114  False\n",
      "               Europe       Western Pacific   1.3784 0.9459  -2.9758   5.7326  False\n",
      "      South-East Asia       Western Pacific   5.5435 0.1141  -0.6902  11.7771  False\n",
      "------------------------------------------------------------------------------------\n"
     ]
    }
   ],
   "source": [
    "#Tukey's Range Test to determine which pairings are significant\n",
    "tukeys_test(suicides_zscored, 'region', 'suicide_rate')"
   ]
  },
  {
   "cell_type": "markdown",
   "id": "34934483-df0a-41e8-81ee-67f4cab0396a",
   "metadata": {},
   "source": [
    "##### Africa is significantly different from every other region<br>\n",
    "Region pairs that are not significantly different are: (pval >= 0.05)<br>\n",
    "Americas - Eastern Mediterranean<br>\n",
    "Americas - South-East Asia<br>\n",
    "Eastern Mediterranean - South-East Asia<br>\n",
    "Europe - South-East Asia<br>\n",
    "Europe - Western Pacific<br>\n"
   ]
  },
  {
   "cell_type": "markdown",
   "id": "52e4bb0c-3cd2-4cdc-a497-916929bc69a2",
   "metadata": {},
   "source": [
    "The Zscored Suicide Rates ANOVA test results should be used with caution. Assumption 2 and 3 are not closely followed even after the removal of outliers.<br>\n",
    "A Natural Log (ln) standarization of suicide rates should be tested for comparison"
   ]
  },
  {
   "cell_type": "markdown",
   "id": "58645205-37d2-4355-8b55-1d1b92ec75a1",
   "metadata": {},
   "source": [
    "### Natural Log Transformation"
   ]
  },
  {
   "cell_type": "markdown",
   "id": "9fe31544-e2ab-49ac-ab07-caf7eaacc483",
   "metadata": {},
   "source": [
    "Useful to transform right skewed data into a more normal distribution<br>\n",
    "Cannot be used with negative values or zero as the ln of a negative = undefined"
   ]
  },
  {
   "cell_type": "code",
   "execution_count": 45,
   "id": "e45e60c9-becc-4f92-9d04-752c0f52a14b",
   "metadata": {},
   "outputs": [
    {
     "name": "stdout",
     "output_type": "stream",
     "text": [
      "76 records removed\n"
     ]
    }
   ],
   "source": [
    "# ln transformation for data profiling and ANOVA test\n",
    "suicides_ln = ln_transformation(suicides_clean, 'suicide_rate')"
   ]
  },
  {
   "cell_type": "markdown",
   "id": "c0340185-c454-4b60-9cf3-f890c18e1b02",
   "metadata": {},
   "source": [
    "#### Suicide Rate by Region (ln)"
   ]
  },
  {
   "cell_type": "code",
   "execution_count": 46,
   "id": "e6b645fb-b3c7-4e60-a625-384ab1c4afab",
   "metadata": {},
   "outputs": [
    {
     "name": "stdout",
     "output_type": "stream",
     "text": [
      "Eastern Mediterranean 0.9898673194838148\n",
      "Europe 1.057949819566598\n",
      "Africa 1.43534968467717\n",
      "Western Pacific 1.009008235965882\n",
      "South-East Asia 1.1178408742569952\n",
      "Americas 1.1493583883434237\n"
     ]
    }
   ],
   "source": [
    "#Calculating std of each region to check if assumption 2 is met (std of groups should be equal)\n",
    "column_std(suicides_ln, 'region', 'suicide_rate')"
   ]
  },
  {
   "cell_type": "code",
   "execution_count": 47,
   "id": "58b46280-1a57-4abc-9827-496560f415fc",
   "metadata": {},
   "outputs": [
    {
     "data": {
      "text/plain": [
       "<AxesSubplot:xlabel='suicide_rate', ylabel='region'>"
      ]
     },
     "execution_count": 47,
     "metadata": {},
     "output_type": "execute_result"
    },
    {
     "data": {
      "image/png": "[encoded data removed]",
      "text/plain": [
       "<Figure size 432x288 with 1 Axes>"
      ]
     },
     "metadata": {
      "needs_background": "light"
     },
     "output_type": "display_data"
    }
   ],
   "source": [
    "#Visualization of ln transformation distribution for assumption 3\n",
    "sns.boxplot(data=suicides_ln, x='suicide_rate', y='region')"
   ]
  },
  {
   "cell_type": "code",
   "execution_count": 48,
   "id": "47dbb41d-943e-4bb3-b14f-c1ecc6d3fa75",
   "metadata": {},
   "outputs": [
    {
     "data": {
      "text/plain": [
       "<seaborn.axisgrid.FacetGrid at 0x1c5412d41f0>"
      ]
     },
     "execution_count": 48,
     "metadata": {},
     "output_type": "execute_result"
    },
    {
     "data": {
      "image/png": "[encoded data removed]",
      "text/plain": [
       "<Figure size 1080x720 with 6 Axes>"
      ]
     },
     "metadata": {
      "needs_background": "light"
     },
     "output_type": "display_data"
    }
   ],
   "source": [
    "sns.displot(data=suicides_ln, x='suicide_rate', col='region', col_wrap=3)"
   ]
  },
  {
   "cell_type": "markdown",
   "id": "4c27569c-13a2-4ec7-8346-46bbe5e91c15",
   "metadata": {},
   "source": [
    "Distribution for each region normalized compared to clean dataset<br>\n",
    "Suicide Rates = e^Value"
   ]
  },
  {
   "cell_type": "markdown",
   "id": "96d0dc2e-6c6c-4a16-81f5-29a2644566a6",
   "metadata": {},
   "source": [
    "#### Suicide Rate by Age Range(ln)"
   ]
  },
  {
   "cell_type": "code",
   "execution_count": 49,
   "id": "541c411b-d156-4d10-9e09-941c9c936f2d",
   "metadata": {},
   "outputs": [
    {
     "name": "stdout",
     "output_type": "stream",
     "text": [
      "45-54 1.0476237409418765\n",
      "55-64 1.0888552278520498\n",
      "25-34 0.9924794295946477\n",
      "65-74 1.0966337880893084\n",
      "35-44 1.0313104189269289\n",
      "85PLUS 1.34389600374223\n",
      "15-24 0.928128257896598\n",
      "75-84 1.1435960545769892\n"
     ]
    }
   ],
   "source": [
    "#Calculating std of each age range to check if assumption 2 is met (std of groups should be equal)\n",
    "column_std(suicides_ln, 'age_range', 'suicide_rate')"
   ]
  },
  {
   "cell_type": "code",
   "execution_count": 50,
   "id": "173eb45d-566b-47fb-bb92-68c7f77b2588",
   "metadata": {},
   "outputs": [
    {
     "data": {
      "image/png": "[encoded data removed]",
      "text/plain": [
       "<Figure size 432x288 with 1 Axes>"
      ]
     },
     "metadata": {
      "needs_background": "light"
     },
     "output_type": "display_data"
    }
   ],
   "source": [
    "#Visualization of ln transformation distribution for assumption 3\n",
    "sorted_boxplot(suicides_ln, 'age_range', 'suicide_rate')"
   ]
  },
  {
   "cell_type": "code",
   "execution_count": 51,
   "id": "22cfc28b-6739-408d-a936-639bec96b63d",
   "metadata": {},
   "outputs": [
    {
     "data": {
      "text/plain": [
       "<seaborn.axisgrid.FacetGrid at 0x1c53e276250>"
      ]
     },
     "execution_count": 51,
     "metadata": {},
     "output_type": "execute_result"
    },
    {
     "data": {
      "image/png": "[encoded data removed]",
      "text/plain": [
       "<Figure size 1080x1080 with 8 Axes>"
      ]
     },
     "metadata": {
      "needs_background": "light"
     },
     "output_type": "display_data"
    }
   ],
   "source": [
    "sns.displot(data=suicides_ln, x='suicide_rate', col='age_range', col_wrap=3)"
   ]
  },
  {
   "cell_type": "markdown",
   "id": "3131a2f7-17c9-4d2b-85cc-a6afdde24df4",
   "metadata": {},
   "source": [
    "Age range distributions are normalized<br>\n",
    "Suicide Rates = e^Value"
   ]
  },
  {
   "cell_type": "markdown",
   "id": "9a5f0bdf-cffe-45d7-82d1-7ff22b35ed78",
   "metadata": {},
   "source": [
    "#### Suicide Rate by Sex(ln)"
   ]
  },
  {
   "cell_type": "code",
   "execution_count": 52,
   "id": "e06c8be8-c5a2-428a-88bf-b5702c0f3403",
   "metadata": {},
   "outputs": [
    {
     "name": "stdout",
     "output_type": "stream",
     "text": [
      "Male 1.0355875525978837\n",
      "Female 1.040580369030891\n"
     ]
    }
   ],
   "source": [
    "#Calculating std of each sex to check if assumption 2 is met (std of groups should be equal)\n",
    "column_std(suicides_ln, 'sex', 'suicide_rate')"
   ]
  },
  {
   "cell_type": "code",
   "execution_count": 53,
   "id": "499c39ad-66d9-4bdf-ae81-399a80142107",
   "metadata": {},
   "outputs": [
    {
     "data": {
      "image/png": "[encoded data removed]",
      "text/plain": [
       "<Figure size 432x288 with 1 Axes>"
      ]
     },
     "metadata": {
      "needs_background": "light"
     },
     "output_type": "display_data"
    }
   ],
   "source": [
    "#Visualization of ln transformation distribution for assumption 3\n",
    "sorted_boxplot(suicides_ln, 'sex', 'suicide_rate')"
   ]
  },
  {
   "cell_type": "code",
   "execution_count": 54,
   "id": "a03f7351-ff57-40cb-944e-7547e1908fdf",
   "metadata": {},
   "outputs": [
    {
     "data": {
      "text/plain": [
       "<AxesSubplot:xlabel='suicide_rate', ylabel='Count'>"
      ]
     },
     "execution_count": 54,
     "metadata": {},
     "output_type": "execute_result"
    },
    {
     "data": {
      "image/png": "[encoded data removed]",
      "text/plain": [
       "<Figure size 432x288 with 1 Axes>"
      ]
     },
     "metadata": {
      "needs_background": "light"
     },
     "output_type": "display_data"
    }
   ],
   "source": [
    "# Histogram to view overlap of suicide rates of males vs females\n",
    "sns.histplot(data=suicides_ln, x='suicide_rate', hue='sex')"
   ]
  },
  {
   "cell_type": "markdown",
   "id": "a91c9a0d-583e-46ac-acb1-66bea5a87340",
   "metadata": {},
   "source": [
    "Slightly left skewed distributions<br>\n",
    "Female distribution centered around Suicide Rates = e^1.5<br>\n",
    "Male distribution centered around Suicide Rates = e^3"
   ]
  },
  {
   "cell_type": "markdown",
   "id": "f1824219-a531-4495-8c99-ec3bb7f5b5e3",
   "metadata": {},
   "source": [
    "### Natural log transformation ANOVA Tests"
   ]
  },
  {
   "cell_type": "markdown",
   "id": "b9b46b2d-70d5-4fea-995d-fc6c4ee6080b",
   "metadata": {},
   "source": [
    "#### ANOVA Test Suicide Rates by Region"
   ]
  },
  {
   "cell_type": "code",
   "execution_count": 55,
   "id": "6419257b-4b45-424b-bf0e-1e8d583f3fa1",
   "metadata": {},
   "outputs": [
    {
     "name": "stdout",
     "output_type": "stream",
     "text": [
      "1.1753090998849108e-52\n"
     ]
    }
   ],
   "source": [
    "#Anova test to determine if the pval is significant\n",
    "anova_test(suicides_ln, 'region', 'suicide_rate')"
   ]
  },
  {
   "cell_type": "code",
   "execution_count": 56,
   "id": "7d036f63-07c8-42d3-a3b6-6587f3d4d247",
   "metadata": {},
   "outputs": [
    {
     "name": "stdout",
     "output_type": "stream",
     "text": [
      "               Multiple Comparison of Means - Tukey HSD, FWER=0.05                \n",
      "==================================================================================\n",
      "        group1                group2        meandiff p-adj   lower   upper  reject\n",
      "----------------------------------------------------------------------------------\n",
      "               Africa              Americas  -0.8569   -0.0 -1.0539 -0.6598   True\n",
      "               Africa Eastern Mediterranean  -1.0334   -0.0 -1.2533 -0.8135   True\n",
      "               Africa                Europe  -0.4773   -0.0 -0.6479 -0.3066   True\n",
      "               Africa       South-East Asia    -0.78   -0.0 -1.0606 -0.4994   True\n",
      "               Africa       Western Pacific   -0.335 0.0003  -0.557  -0.113   True\n",
      "             Americas Eastern Mediterranean  -0.1766 0.2855 -0.4159  0.0628  False\n",
      "             Americas                Europe   0.3796    0.0  0.1846  0.5746   True\n",
      "             Americas       South-East Asia   0.0769 0.9768 -0.2192  0.3729  False\n",
      "             Americas       Western Pacific   0.5219    0.0  0.2806  0.7631   True\n",
      "Eastern Mediterranean                Europe   0.5562    0.0  0.3381  0.7742   True\n",
      "Eastern Mediterranean       South-East Asia   0.2535 0.1868 -0.0583  0.5652  False\n",
      "Eastern Mediterranean       Western Pacific   0.6984   -0.0  0.4382  0.9587   True\n",
      "               Europe       South-East Asia  -0.3027 0.0245 -0.5818 -0.0236   True\n",
      "               Europe       Western Pacific   0.1423 0.4384 -0.0779  0.3624  False\n",
      "      South-East Asia       Western Pacific    0.445 0.0007  0.1318  0.7582   True\n",
      "----------------------------------------------------------------------------------\n"
     ]
    }
   ],
   "source": [
    "#Tukey's Range Test to determine which pairings are significant\n",
    "tukeys_test(suicides_ln, 'region', 'suicide_rate')"
   ]
  },
  {
   "cell_type": "markdown",
   "id": "458fd8e5-e4f5-40b6-ba79-3f674d7770aa",
   "metadata": {
    "tags": []
   },
   "source": [
    "##### Africa is significantly different from every other region<br>\n",
    "Region pairs that are not significantly different are: (pval >= 0.05)<br>\n",
    "Americas - Eastern Mediterranean<br>\n",
    "Americas - South-East Asia<br>\n",
    "Eastern Mediterranean - South-East Asia<br>\n",
    "Europe - South-East Asia<br>\n",
    "Europe - Western Pacific<br>\n",
    "Natural Log transformation ANOVA test supports the results from the zscored normalized ANOVA test"
   ]
  },
  {
   "cell_type": "markdown",
   "id": "2e28fa94-c83e-40ba-8652-5812e595b67c",
   "metadata": {},
   "source": [
    "#### ANOVA Test Suicide Rates by Age Range"
   ]
  },
  {
   "cell_type": "code",
   "execution_count": 57,
   "id": "2cd4f1e5-bf1d-446c-bd47-e206c5a6798a",
   "metadata": {},
   "outputs": [
    {
     "name": "stdout",
     "output_type": "stream",
     "text": [
      "2.074709176666932e-143\n"
     ]
    }
   ],
   "source": [
    "#Anova test to determine if the pval is significant\n",
    "anova_test(suicides_ln, 'age_range', 'suicide_rate')"
   ]
  },
  {
   "cell_type": "code",
   "execution_count": 58,
   "id": "cfeb8fd5-33f6-4458-8883-be60b12e459f",
   "metadata": {},
   "outputs": [
    {
     "name": "stdout",
     "output_type": "stream",
     "text": [
      "Multiple Comparison of Means - Tukey HSD, FWER=0.05\n",
      "===================================================\n",
      "group1 group2 meandiff p-adj   lower  upper  reject\n",
      "---------------------------------------------------\n",
      " 15-24  25-34   0.2531 0.0403  0.0059 0.5003   True\n",
      " 15-24  35-44   0.4073    0.0  0.1601 0.6545   True\n",
      " 15-24  45-54   0.6081    0.0  0.3611 0.8551   True\n",
      " 15-24  55-64   0.7729   -0.0  0.5255 1.0202   True\n",
      " 15-24  65-74   0.9674   -0.0  0.7201 1.2148   True\n",
      " 15-24  75-84   1.2617   -0.0   1.014 1.5094   True\n",
      " 15-24 85PLUS   1.9064   -0.0   1.658 2.1549   True\n",
      " 25-34  35-44   0.1542 0.5556 -0.0928 0.4012  False\n",
      " 25-34  45-54    0.355 0.0004  0.1081 0.6018   True\n",
      " 25-34  55-64   0.5198    0.0  0.2726 0.7669   True\n",
      " 25-34  65-74   0.7143   -0.0  0.4671 0.9615   True\n",
      " 25-34  75-84   1.0086   -0.0   0.761 1.2561   True\n",
      " 25-34 85PLUS   1.6533   -0.0  1.4051 1.9016   True\n",
      " 35-44  45-54   0.2008 0.2099  -0.046 0.4476  False\n",
      " 35-44  55-64   0.3656 0.0002  0.1184 0.6128   True\n",
      " 35-44  65-74   0.5601    0.0   0.313 0.8073   True\n",
      " 35-44  75-84   0.8544   -0.0  0.6068 1.1019   True\n",
      " 35-44 85PLUS   1.4992   -0.0  1.2509 1.7474   True\n",
      " 45-54  55-64   0.1648 0.4661 -0.0822 0.4118  False\n",
      " 45-54  65-74   0.3593 0.0003  0.1123 0.6064   True\n",
      " 45-54  75-84   0.6536   -0.0  0.4062 0.9009   True\n",
      " 45-54 85PLUS   1.2984   -0.0  1.0503 1.5464   True\n",
      " 55-64  65-74   0.1946 0.2485 -0.0528 0.4419  False\n",
      " 55-64  75-84   0.4888    0.0  0.2411 0.7365   True\n",
      " 55-64 85PLUS   1.1336   -0.0  0.8852  1.382   True\n",
      " 65-74  75-84   0.2942 0.0077  0.0465 0.5419   True\n",
      " 65-74 85PLUS    0.939   -0.0  0.6906 1.1874   True\n",
      " 75-84 85PLUS   0.6448   -0.0   0.396 0.8935   True\n",
      "---------------------------------------------------\n"
     ]
    }
   ],
   "source": [
    "#Tukey's Range Test to determine which pairings are significant\n",
    "tukeys_test(suicides_ln, 'age_range', 'suicide_rate')"
   ]
  },
  {
   "cell_type": "markdown",
   "id": "226d8d52-86b8-4ab8-aa33-dc08eb9b43ff",
   "metadata": {},
   "source": [
    "Age range pairs that are not significantly different are: (pval >= 0.05)<br>\n",
    "25-34 - 35-44<br>\n",
    "35-44 - 45-54<br>\n",
    "45-54 - 55-64<br>\n",
    "55-64 - 65-74<br>\n",
    "A trend of age ranges that are close to each other appear to not be significantly different from each other except for 85PLUS<br>"
   ]
  },
  {
   "cell_type": "markdown",
   "id": "cc826d0c-6af2-4af6-9c1d-98e2784daecb",
   "metadata": {},
   "source": [
    "#### ANOVA Test Suicide Rates by Sex"
   ]
  },
  {
   "cell_type": "code",
   "execution_count": 59,
   "id": "6c11e6cb-08d0-4fbe-9cb7-06dd0db01d8c",
   "metadata": {},
   "outputs": [
    {
     "name": "stdout",
     "output_type": "stream",
     "text": [
      "1.417529953282241e-209\n"
     ]
    }
   ],
   "source": [
    "#2 Sample T test to determine if the pval is significant\n",
    "two_tail_ttest(suicides_ln, 'sex', 'suicide_rate')"
   ]
  },
  {
   "cell_type": "markdown",
   "id": "98639550-0e96-4c3b-bb96-f2e9ae694c6e",
   "metadata": {},
   "source": [
    "Pval <= 0.05 indicates we reject the null hypothesis<br>\n",
    "The two suicide rates are not from the same population and have different means than the population"
   ]
  },
  {
   "cell_type": "code",
   "execution_count": null,
   "id": "29b9c80c-dfed-4e56-974a-589152974ea4",
   "metadata": {},
   "outputs": [],
   "source": []
  }
 ],
 "metadata": {
  "kernelspec": {
   "display_name": "Python 3.9.12 ('base')",
   "language": "python",
   "name": "python3"
  },
  "language_info": {
   "codemirror_mode": {
    "name": "ipython",
    "version": 3
   },
   "file_extension": ".py",
   "mimetype": "text/x-python",
   "name": "python",
   "nbconvert_exporter": "python",
   "pygments_lexer": "ipython3",
   "version": "3.9.12"
  },
  "vscode": {
   "interpreter": {
    "hash": "8d904be4e2b915d74864095e2d051e926474d3fcdfd75ac59e46011c655fe56a"
   }
  }
 },
 "nbformat": 4,
 "nbformat_minor": 5
}
