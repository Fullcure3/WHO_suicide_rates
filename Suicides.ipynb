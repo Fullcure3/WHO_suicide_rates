{
 "cells": [
  {
   "cell_type": "code",
   "execution_count": 92,
   "id": "9fa13b68-95d3-4d32-8090-31a6e58c022c",
   "metadata": {},
   "outputs": [],
   "source": [
    "import pandas as pd\n",
    "import numpy as np\n",
    "import matplotlib.pyplot as plt\n",
    "import seaborn as sns\n",
    "from scipy.stats import zscore, f_oneway\n",
    "from statsmodels.stats.multicomp import pairwise_tukeyhsd"
   ]
  },
  {
   "cell_type": "markdown",
   "id": "f13c2e17-7e7c-40e0-b587-1710a372a8cd",
   "metadata": {},
   "source": [
    "### Loading CSV into pandas dataframe for data cleaning"
   ]
  },
  {
   "cell_type": "code",
   "execution_count": 93,
   "id": "2a39f02c-21e5-4a8a-ad08-1812b4e8cc52",
   "metadata": {},
   "outputs": [],
   "source": [
    "suicides = pd.read_csv('suicides.csv')"
   ]
  },
  {
   "cell_type": "markdown",
   "id": "574f2a4c-89a9-4e9d-acfa-eefe4e2d5bcb",
   "metadata": {},
   "source": [
    "#### Initial look at the data for data cleaning"
   ]
  },
  {
   "cell_type": "code",
   "execution_count": 94,
   "id": "86ff1f57-384c-4578-a76a-d94701148f29",
   "metadata": {},
   "outputs": [
    {
     "data": {
      "text/html": [
       "<div>\n",
       "<style scoped>\n",
       "    .dataframe tbody tr th:only-of-type {\n",
       "        vertical-align: middle;\n",
       "    }\n",
       "\n",
       "    .dataframe tbody tr th {\n",
       "        vertical-align: top;\n",
       "    }\n",
       "\n",
       "    .dataframe thead th {\n",
       "        text-align: right;\n",
       "    }\n",
       "</style>\n",
       "<table border=\"1\" class=\"dataframe\">\n",
       "  <thead>\n",
       "    <tr style=\"text-align: right;\">\n",
       "      <th></th>\n",
       "      <th>IndicatorCode</th>\n",
       "      <th>Indicator</th>\n",
       "      <th>ValueType</th>\n",
       "      <th>ParentLocationCode</th>\n",
       "      <th>ParentLocation</th>\n",
       "      <th>Location type</th>\n",
       "      <th>SpatialDimValueCode</th>\n",
       "      <th>Location</th>\n",
       "      <th>Period type</th>\n",
       "      <th>Period</th>\n",
       "      <th>...</th>\n",
       "      <th>FactValueUoM</th>\n",
       "      <th>FactValueNumericLowPrefix</th>\n",
       "      <th>FactValueNumericLow</th>\n",
       "      <th>FactValueNumericHighPrefix</th>\n",
       "      <th>FactValueNumericHigh</th>\n",
       "      <th>Value</th>\n",
       "      <th>FactValueTranslationID</th>\n",
       "      <th>FactComments</th>\n",
       "      <th>Language</th>\n",
       "      <th>DateModified</th>\n",
       "    </tr>\n",
       "  </thead>\n",
       "  <tbody>\n",
       "    <tr>\n",
       "      <th>0</th>\n",
       "      <td>SDGSUICIDE</td>\n",
       "      <td>Crude suicide rates (per 100 000 population)</td>\n",
       "      <td>text</td>\n",
       "      <td>AMR</td>\n",
       "      <td>Americas</td>\n",
       "      <td>Country</td>\n",
       "      <td>ATG</td>\n",
       "      <td>Antigua and Barbuda</td>\n",
       "      <td>Year</td>\n",
       "      <td>2019</td>\n",
       "      <td>...</td>\n",
       "      <td>NaN</td>\n",
       "      <td>NaN</td>\n",
       "      <td>NaN</td>\n",
       "      <td>NaN</td>\n",
       "      <td>NaN</td>\n",
       "      <td>0.0</td>\n",
       "      <td>NaN</td>\n",
       "      <td>NaN</td>\n",
       "      <td>EN</td>\n",
       "      <td>2021-07-06T04:00:00.000Z</td>\n",
       "    </tr>\n",
       "    <tr>\n",
       "      <th>1</th>\n",
       "      <td>SDGSUICIDE</td>\n",
       "      <td>Crude suicide rates (per 100 000 population)</td>\n",
       "      <td>text</td>\n",
       "      <td>AMR</td>\n",
       "      <td>Americas</td>\n",
       "      <td>Country</td>\n",
       "      <td>ATG</td>\n",
       "      <td>Antigua and Barbuda</td>\n",
       "      <td>Year</td>\n",
       "      <td>2019</td>\n",
       "      <td>...</td>\n",
       "      <td>NaN</td>\n",
       "      <td>NaN</td>\n",
       "      <td>NaN</td>\n",
       "      <td>NaN</td>\n",
       "      <td>NaN</td>\n",
       "      <td>0.0</td>\n",
       "      <td>NaN</td>\n",
       "      <td>NaN</td>\n",
       "      <td>EN</td>\n",
       "      <td>2021-07-06T04:00:00.000Z</td>\n",
       "    </tr>\n",
       "    <tr>\n",
       "      <th>2</th>\n",
       "      <td>SDGSUICIDE</td>\n",
       "      <td>Crude suicide rates (per 100 000 population)</td>\n",
       "      <td>text</td>\n",
       "      <td>AMR</td>\n",
       "      <td>Americas</td>\n",
       "      <td>Country</td>\n",
       "      <td>ATG</td>\n",
       "      <td>Antigua and Barbuda</td>\n",
       "      <td>Year</td>\n",
       "      <td>2019</td>\n",
       "      <td>...</td>\n",
       "      <td>NaN</td>\n",
       "      <td>NaN</td>\n",
       "      <td>NaN</td>\n",
       "      <td>NaN</td>\n",
       "      <td>NaN</td>\n",
       "      <td>0.0</td>\n",
       "      <td>NaN</td>\n",
       "      <td>NaN</td>\n",
       "      <td>EN</td>\n",
       "      <td>2021-07-06T04:00:00.000Z</td>\n",
       "    </tr>\n",
       "    <tr>\n",
       "      <th>3</th>\n",
       "      <td>SDGSUICIDE</td>\n",
       "      <td>Crude suicide rates (per 100 000 population)</td>\n",
       "      <td>text</td>\n",
       "      <td>AMR</td>\n",
       "      <td>Americas</td>\n",
       "      <td>Country</td>\n",
       "      <td>ATG</td>\n",
       "      <td>Antigua and Barbuda</td>\n",
       "      <td>Year</td>\n",
       "      <td>2019</td>\n",
       "      <td>...</td>\n",
       "      <td>NaN</td>\n",
       "      <td>NaN</td>\n",
       "      <td>NaN</td>\n",
       "      <td>NaN</td>\n",
       "      <td>NaN</td>\n",
       "      <td>0.0</td>\n",
       "      <td>NaN</td>\n",
       "      <td>NaN</td>\n",
       "      <td>EN</td>\n",
       "      <td>2021-07-06T04:00:00.000Z</td>\n",
       "    </tr>\n",
       "    <tr>\n",
       "      <th>4</th>\n",
       "      <td>SDGSUICIDE</td>\n",
       "      <td>Crude suicide rates (per 100 000 population)</td>\n",
       "      <td>text</td>\n",
       "      <td>AMR</td>\n",
       "      <td>Americas</td>\n",
       "      <td>Country</td>\n",
       "      <td>ATG</td>\n",
       "      <td>Antigua and Barbuda</td>\n",
       "      <td>Year</td>\n",
       "      <td>2019</td>\n",
       "      <td>...</td>\n",
       "      <td>NaN</td>\n",
       "      <td>NaN</td>\n",
       "      <td>NaN</td>\n",
       "      <td>NaN</td>\n",
       "      <td>NaN</td>\n",
       "      <td>0.0</td>\n",
       "      <td>NaN</td>\n",
       "      <td>NaN</td>\n",
       "      <td>EN</td>\n",
       "      <td>2021-07-06T04:00:00.000Z</td>\n",
       "    </tr>\n",
       "  </tbody>\n",
       "</table>\n",
       "<p>5 rows × 34 columns</p>\n",
       "</div>"
      ],
      "text/plain": [
       "  IndicatorCode                                     Indicator ValueType  \\\n",
       "0    SDGSUICIDE  Crude suicide rates (per 100 000 population)      text   \n",
       "1    SDGSUICIDE  Crude suicide rates (per 100 000 population)      text   \n",
       "2    SDGSUICIDE  Crude suicide rates (per 100 000 population)      text   \n",
       "3    SDGSUICIDE  Crude suicide rates (per 100 000 population)      text   \n",
       "4    SDGSUICIDE  Crude suicide rates (per 100 000 population)      text   \n",
       "\n",
       "  ParentLocationCode ParentLocation Location type SpatialDimValueCode  \\\n",
       "0                AMR       Americas       Country                 ATG   \n",
       "1                AMR       Americas       Country                 ATG   \n",
       "2                AMR       Americas       Country                 ATG   \n",
       "3                AMR       Americas       Country                 ATG   \n",
       "4                AMR       Americas       Country                 ATG   \n",
       "\n",
       "              Location Period type  Period  ...  FactValueUoM  \\\n",
       "0  Antigua and Barbuda        Year    2019  ...           NaN   \n",
       "1  Antigua and Barbuda        Year    2019  ...           NaN   \n",
       "2  Antigua and Barbuda        Year    2019  ...           NaN   \n",
       "3  Antigua and Barbuda        Year    2019  ...           NaN   \n",
       "4  Antigua and Barbuda        Year    2019  ...           NaN   \n",
       "\n",
       "  FactValueNumericLowPrefix FactValueNumericLow FactValueNumericHighPrefix  \\\n",
       "0                       NaN                 NaN                        NaN   \n",
       "1                       NaN                 NaN                        NaN   \n",
       "2                       NaN                 NaN                        NaN   \n",
       "3                       NaN                 NaN                        NaN   \n",
       "4                       NaN                 NaN                        NaN   \n",
       "\n",
       "  FactValueNumericHigh Value FactValueTranslationID  FactComments  Language  \\\n",
       "0                  NaN   0.0                    NaN           NaN        EN   \n",
       "1                  NaN   0.0                    NaN           NaN        EN   \n",
       "2                  NaN   0.0                    NaN           NaN        EN   \n",
       "3                  NaN   0.0                    NaN           NaN        EN   \n",
       "4                  NaN   0.0                    NaN           NaN        EN   \n",
       "\n",
       "               DateModified  \n",
       "0  2021-07-06T04:00:00.000Z  \n",
       "1  2021-07-06T04:00:00.000Z  \n",
       "2  2021-07-06T04:00:00.000Z  \n",
       "3  2021-07-06T04:00:00.000Z  \n",
       "4  2021-07-06T04:00:00.000Z  \n",
       "\n",
       "[5 rows x 34 columns]"
      ]
     },
     "execution_count": 94,
     "metadata": {},
     "output_type": "execute_result"
    }
   ],
   "source": [
    "suicides.head()"
   ]
  },
  {
   "cell_type": "markdown",
   "id": "c5bbda5c-d7f0-40e0-a31b-b1ea96edd39e",
   "metadata": {},
   "source": [
    "#### Remove metadata columns and missing data to create a usable dataset for EDA"
   ]
  },
  {
   "cell_type": "code",
   "execution_count": 95,
   "id": "34eb2089-7a79-4f49-89f9-223fabb61d63",
   "metadata": {},
   "outputs": [
    {
     "name": "stdout",
     "output_type": "stream",
     "text": [
      "<class 'pandas.core.frame.DataFrame'>\n",
      "RangeIndex: 4392 entries, 0 to 4391\n",
      "Data columns (total 34 columns):\n",
      " #   Column                      Non-Null Count  Dtype  \n",
      "---  ------                      --------------  -----  \n",
      " 0   IndicatorCode               4392 non-null   object \n",
      " 1   Indicator                   4392 non-null   object \n",
      " 2   ValueType                   4392 non-null   object \n",
      " 3   ParentLocationCode          4392 non-null   object \n",
      " 4   ParentLocation              4392 non-null   object \n",
      " 5   Location type               4392 non-null   object \n",
      " 6   SpatialDimValueCode         4392 non-null   object \n",
      " 7   Location                    4392 non-null   object \n",
      " 8   Period type                 4392 non-null   object \n",
      " 9   Period                      4392 non-null   int64  \n",
      " 10  IsLatestYear                4392 non-null   bool   \n",
      " 11  Dim1 type                   4392 non-null   object \n",
      " 12  Dim1                        4392 non-null   object \n",
      " 13  Dim1ValueCode               4392 non-null   object \n",
      " 14  Dim2 type                   4392 non-null   object \n",
      " 15  Dim2                        4392 non-null   object \n",
      " 16  Dim2ValueCode               4392 non-null   object \n",
      " 17  Dim3 type                   0 non-null      float64\n",
      " 18  Dim3                        0 non-null      float64\n",
      " 19  Dim3ValueCode               0 non-null      float64\n",
      " 20  DataSourceDimValueCode      0 non-null      float64\n",
      " 21  DataSource                  0 non-null      float64\n",
      " 22  FactValueNumericPrefix      0 non-null      float64\n",
      " 23  FactValueNumeric            4392 non-null   float64\n",
      " 24  FactValueUoM                0 non-null      float64\n",
      " 25  FactValueNumericLowPrefix   0 non-null      float64\n",
      " 26  FactValueNumericLow         0 non-null      float64\n",
      " 27  FactValueNumericHighPrefix  0 non-null      float64\n",
      " 28  FactValueNumericHigh        0 non-null      float64\n",
      " 29  Value                       4392 non-null   float64\n",
      " 30  FactValueTranslationID      0 non-null      float64\n",
      " 31  FactComments                0 non-null      float64\n",
      " 32  Language                    4392 non-null   object \n",
      " 33  DateModified                4392 non-null   object \n",
      "dtypes: bool(1), float64(15), int64(1), object(17)\n",
      "memory usage: 1.1+ MB\n"
     ]
    }
   ],
   "source": [
    "# Check columns to identify which columns to drop that contain missing data over 60%\n",
    "suicides.info()"
   ]
  },
  {
   "cell_type": "code",
   "execution_count": 96,
   "id": "7938aee8-7623-4540-a0a6-99d2d8e87f89",
   "metadata": {},
   "outputs": [
    {
     "data": {
      "text/html": [
       "<div>\n",
       "<style scoped>\n",
       "    .dataframe tbody tr th:only-of-type {\n",
       "        vertical-align: middle;\n",
       "    }\n",
       "\n",
       "    .dataframe tbody tr th {\n",
       "        vertical-align: top;\n",
       "    }\n",
       "\n",
       "    .dataframe thead th {\n",
       "        text-align: right;\n",
       "    }\n",
       "</style>\n",
       "<table border=\"1\" class=\"dataframe\">\n",
       "  <thead>\n",
       "    <tr style=\"text-align: right;\">\n",
       "      <th></th>\n",
       "      <th>IndicatorCode</th>\n",
       "      <th>Indicator</th>\n",
       "      <th>ValueType</th>\n",
       "      <th>ParentLocationCode</th>\n",
       "      <th>ParentLocation</th>\n",
       "      <th>Location type</th>\n",
       "      <th>SpatialDimValueCode</th>\n",
       "      <th>Location</th>\n",
       "      <th>Period type</th>\n",
       "      <th>Period</th>\n",
       "      <th>...</th>\n",
       "      <th>Dim1 type</th>\n",
       "      <th>Dim1</th>\n",
       "      <th>Dim1ValueCode</th>\n",
       "      <th>Dim2 type</th>\n",
       "      <th>Dim2</th>\n",
       "      <th>Dim2ValueCode</th>\n",
       "      <th>FactValueNumeric</th>\n",
       "      <th>Value</th>\n",
       "      <th>Language</th>\n",
       "      <th>DateModified</th>\n",
       "    </tr>\n",
       "  </thead>\n",
       "  <tbody>\n",
       "    <tr>\n",
       "      <th>0</th>\n",
       "      <td>SDGSUICIDE</td>\n",
       "      <td>Crude suicide rates (per 100 000 population)</td>\n",
       "      <td>text</td>\n",
       "      <td>AMR</td>\n",
       "      <td>Americas</td>\n",
       "      <td>Country</td>\n",
       "      <td>ATG</td>\n",
       "      <td>Antigua and Barbuda</td>\n",
       "      <td>Year</td>\n",
       "      <td>2019</td>\n",
       "      <td>...</td>\n",
       "      <td>Sex</td>\n",
       "      <td>Both sexes</td>\n",
       "      <td>BTSX</td>\n",
       "      <td>Age Group</td>\n",
       "      <td>15-24 years</td>\n",
       "      <td>YEARS15-24</td>\n",
       "      <td>0.0</td>\n",
       "      <td>0.0</td>\n",
       "      <td>EN</td>\n",
       "      <td>2021-07-06T04:00:00.000Z</td>\n",
       "    </tr>\n",
       "    <tr>\n",
       "      <th>1</th>\n",
       "      <td>SDGSUICIDE</td>\n",
       "      <td>Crude suicide rates (per 100 000 population)</td>\n",
       "      <td>text</td>\n",
       "      <td>AMR</td>\n",
       "      <td>Americas</td>\n",
       "      <td>Country</td>\n",
       "      <td>ATG</td>\n",
       "      <td>Antigua and Barbuda</td>\n",
       "      <td>Year</td>\n",
       "      <td>2019</td>\n",
       "      <td>...</td>\n",
       "      <td>Sex</td>\n",
       "      <td>Both sexes</td>\n",
       "      <td>BTSX</td>\n",
       "      <td>Age Group</td>\n",
       "      <td>25-34 years of age</td>\n",
       "      <td>YEARS25-34</td>\n",
       "      <td>0.0</td>\n",
       "      <td>0.0</td>\n",
       "      <td>EN</td>\n",
       "      <td>2021-07-06T04:00:00.000Z</td>\n",
       "    </tr>\n",
       "    <tr>\n",
       "      <th>2</th>\n",
       "      <td>SDGSUICIDE</td>\n",
       "      <td>Crude suicide rates (per 100 000 population)</td>\n",
       "      <td>text</td>\n",
       "      <td>AMR</td>\n",
       "      <td>Americas</td>\n",
       "      <td>Country</td>\n",
       "      <td>ATG</td>\n",
       "      <td>Antigua and Barbuda</td>\n",
       "      <td>Year</td>\n",
       "      <td>2019</td>\n",
       "      <td>...</td>\n",
       "      <td>Sex</td>\n",
       "      <td>Both sexes</td>\n",
       "      <td>BTSX</td>\n",
       "      <td>Age Group</td>\n",
       "      <td>35-44 years of age</td>\n",
       "      <td>YEARS35-44</td>\n",
       "      <td>0.0</td>\n",
       "      <td>0.0</td>\n",
       "      <td>EN</td>\n",
       "      <td>2021-07-06T04:00:00.000Z</td>\n",
       "    </tr>\n",
       "    <tr>\n",
       "      <th>3</th>\n",
       "      <td>SDGSUICIDE</td>\n",
       "      <td>Crude suicide rates (per 100 000 population)</td>\n",
       "      <td>text</td>\n",
       "      <td>AMR</td>\n",
       "      <td>Americas</td>\n",
       "      <td>Country</td>\n",
       "      <td>ATG</td>\n",
       "      <td>Antigua and Barbuda</td>\n",
       "      <td>Year</td>\n",
       "      <td>2019</td>\n",
       "      <td>...</td>\n",
       "      <td>Sex</td>\n",
       "      <td>Both sexes</td>\n",
       "      <td>BTSX</td>\n",
       "      <td>Age Group</td>\n",
       "      <td>45-54 years</td>\n",
       "      <td>YEARS45-54</td>\n",
       "      <td>0.0</td>\n",
       "      <td>0.0</td>\n",
       "      <td>EN</td>\n",
       "      <td>2021-07-06T04:00:00.000Z</td>\n",
       "    </tr>\n",
       "    <tr>\n",
       "      <th>4</th>\n",
       "      <td>SDGSUICIDE</td>\n",
       "      <td>Crude suicide rates (per 100 000 population)</td>\n",
       "      <td>text</td>\n",
       "      <td>AMR</td>\n",
       "      <td>Americas</td>\n",
       "      <td>Country</td>\n",
       "      <td>ATG</td>\n",
       "      <td>Antigua and Barbuda</td>\n",
       "      <td>Year</td>\n",
       "      <td>2019</td>\n",
       "      <td>...</td>\n",
       "      <td>Sex</td>\n",
       "      <td>Both sexes</td>\n",
       "      <td>BTSX</td>\n",
       "      <td>Age Group</td>\n",
       "      <td>65-74 years</td>\n",
       "      <td>YEARS65-74</td>\n",
       "      <td>0.0</td>\n",
       "      <td>0.0</td>\n",
       "      <td>EN</td>\n",
       "      <td>2021-07-06T04:00:00.000Z</td>\n",
       "    </tr>\n",
       "  </tbody>\n",
       "</table>\n",
       "<p>5 rows × 21 columns</p>\n",
       "</div>"
      ],
      "text/plain": [
       "  IndicatorCode                                     Indicator ValueType  \\\n",
       "0    SDGSUICIDE  Crude suicide rates (per 100 000 population)      text   \n",
       "1    SDGSUICIDE  Crude suicide rates (per 100 000 population)      text   \n",
       "2    SDGSUICIDE  Crude suicide rates (per 100 000 population)      text   \n",
       "3    SDGSUICIDE  Crude suicide rates (per 100 000 population)      text   \n",
       "4    SDGSUICIDE  Crude suicide rates (per 100 000 population)      text   \n",
       "\n",
       "  ParentLocationCode ParentLocation Location type SpatialDimValueCode  \\\n",
       "0                AMR       Americas       Country                 ATG   \n",
       "1                AMR       Americas       Country                 ATG   \n",
       "2                AMR       Americas       Country                 ATG   \n",
       "3                AMR       Americas       Country                 ATG   \n",
       "4                AMR       Americas       Country                 ATG   \n",
       "\n",
       "              Location Period type  Period  ...  Dim1 type        Dim1  \\\n",
       "0  Antigua and Barbuda        Year    2019  ...        Sex  Both sexes   \n",
       "1  Antigua and Barbuda        Year    2019  ...        Sex  Both sexes   \n",
       "2  Antigua and Barbuda        Year    2019  ...        Sex  Both sexes   \n",
       "3  Antigua and Barbuda        Year    2019  ...        Sex  Both sexes   \n",
       "4  Antigua and Barbuda        Year    2019  ...        Sex  Both sexes   \n",
       "\n",
       "  Dim1ValueCode  Dim2 type                Dim2 Dim2ValueCode FactValueNumeric  \\\n",
       "0          BTSX  Age Group         15-24 years    YEARS15-24              0.0   \n",
       "1          BTSX  Age Group  25-34 years of age    YEARS25-34              0.0   \n",
       "2          BTSX  Age Group  35-44 years of age    YEARS35-44              0.0   \n",
       "3          BTSX  Age Group         45-54 years    YEARS45-54              0.0   \n",
       "4          BTSX  Age Group         65-74 years    YEARS65-74              0.0   \n",
       "\n",
       "   Value  Language              DateModified  \n",
       "0    0.0        EN  2021-07-06T04:00:00.000Z  \n",
       "1    0.0        EN  2021-07-06T04:00:00.000Z  \n",
       "2    0.0        EN  2021-07-06T04:00:00.000Z  \n",
       "3    0.0        EN  2021-07-06T04:00:00.000Z  \n",
       "4    0.0        EN  2021-07-06T04:00:00.000Z  \n",
       "\n",
       "[5 rows x 21 columns]"
      ]
     },
     "execution_count": 96,
     "metadata": {},
     "output_type": "execute_result"
    }
   ],
   "source": [
    "# Drop missing data columns to clean the dataset\n",
    "suicides.dropna(axis='columns', how='all', inplace=True)\n",
    "suicides.head()"
   ]
  },
  {
   "cell_type": "code",
   "execution_count": 97,
   "id": "6f5091da-59c7-409f-95f4-0c81fb1bf1e8",
   "metadata": {},
   "outputs": [
    {
     "data": {
      "text/plain": [
       "YEARS15-24     549\n",
       "YEARS25-34     549\n",
       "YEARS35-44     549\n",
       "YEARS45-54     549\n",
       "YEARS65-74     549\n",
       "YEARS75-84     549\n",
       "YEARS85PLUS    549\n",
       "YEARS55-64     549\n",
       "Name: Dim2ValueCode, dtype: int64"
      ]
     },
     "execution_count": 97,
     "metadata": {},
     "output_type": "execute_result"
    }
   ],
   "source": [
    "#Check values of Dim2ValueCode to determine how to split the strings\n",
    "suicides.Dim2ValueCode.value_counts()"
   ]
  },
  {
   "cell_type": "code",
   "execution_count": 98,
   "id": "5b6c433f-6517-4600-adf5-50c7603cd382",
   "metadata": {},
   "outputs": [
    {
     "name": "stdout",
     "output_type": "stream",
     "text": [
      "0    15-24\n",
      "1    25-34\n",
      "2    35-44\n",
      "3    45-54\n",
      "4    65-74\n",
      "Name: Dim2ValueCode, dtype: object\n"
     ]
    },
    {
     "data": {
      "text/html": [
       "<div>\n",
       "<style scoped>\n",
       "    .dataframe tbody tr th:only-of-type {\n",
       "        vertical-align: middle;\n",
       "    }\n",
       "\n",
       "    .dataframe tbody tr th {\n",
       "        vertical-align: top;\n",
       "    }\n",
       "\n",
       "    .dataframe thead th {\n",
       "        text-align: right;\n",
       "    }\n",
       "</style>\n",
       "<table border=\"1\" class=\"dataframe\">\n",
       "  <thead>\n",
       "    <tr style=\"text-align: right;\">\n",
       "      <th></th>\n",
       "      <th>IndicatorCode</th>\n",
       "      <th>Indicator</th>\n",
       "      <th>ValueType</th>\n",
       "      <th>ParentLocationCode</th>\n",
       "      <th>ParentLocation</th>\n",
       "      <th>Location type</th>\n",
       "      <th>SpatialDimValueCode</th>\n",
       "      <th>Location</th>\n",
       "      <th>Period type</th>\n",
       "      <th>Period</th>\n",
       "      <th>...</th>\n",
       "      <th>Dim1ValueCode</th>\n",
       "      <th>Dim2 type</th>\n",
       "      <th>Dim2</th>\n",
       "      <th>Dim2ValueCode</th>\n",
       "      <th>FactValueNumeric</th>\n",
       "      <th>Value</th>\n",
       "      <th>Language</th>\n",
       "      <th>DateModified</th>\n",
       "      <th>AgeMin</th>\n",
       "      <th>AgeMax</th>\n",
       "    </tr>\n",
       "  </thead>\n",
       "  <tbody>\n",
       "    <tr>\n",
       "      <th>0</th>\n",
       "      <td>SDGSUICIDE</td>\n",
       "      <td>Crude suicide rates (per 100 000 population)</td>\n",
       "      <td>text</td>\n",
       "      <td>AMR</td>\n",
       "      <td>Americas</td>\n",
       "      <td>Country</td>\n",
       "      <td>ATG</td>\n",
       "      <td>Antigua and Barbuda</td>\n",
       "      <td>Year</td>\n",
       "      <td>2019</td>\n",
       "      <td>...</td>\n",
       "      <td>BTSX</td>\n",
       "      <td>Age Group</td>\n",
       "      <td>15-24 years</td>\n",
       "      <td>15-24</td>\n",
       "      <td>0.0</td>\n",
       "      <td>0.0</td>\n",
       "      <td>EN</td>\n",
       "      <td>2021-07-06T04:00:00.000Z</td>\n",
       "      <td>15</td>\n",
       "      <td>24</td>\n",
       "    </tr>\n",
       "    <tr>\n",
       "      <th>1</th>\n",
       "      <td>SDGSUICIDE</td>\n",
       "      <td>Crude suicide rates (per 100 000 population)</td>\n",
       "      <td>text</td>\n",
       "      <td>AMR</td>\n",
       "      <td>Americas</td>\n",
       "      <td>Country</td>\n",
       "      <td>ATG</td>\n",
       "      <td>Antigua and Barbuda</td>\n",
       "      <td>Year</td>\n",
       "      <td>2019</td>\n",
       "      <td>...</td>\n",
       "      <td>BTSX</td>\n",
       "      <td>Age Group</td>\n",
       "      <td>25-34 years of age</td>\n",
       "      <td>25-34</td>\n",
       "      <td>0.0</td>\n",
       "      <td>0.0</td>\n",
       "      <td>EN</td>\n",
       "      <td>2021-07-06T04:00:00.000Z</td>\n",
       "      <td>25</td>\n",
       "      <td>34</td>\n",
       "    </tr>\n",
       "    <tr>\n",
       "      <th>2</th>\n",
       "      <td>SDGSUICIDE</td>\n",
       "      <td>Crude suicide rates (per 100 000 population)</td>\n",
       "      <td>text</td>\n",
       "      <td>AMR</td>\n",
       "      <td>Americas</td>\n",
       "      <td>Country</td>\n",
       "      <td>ATG</td>\n",
       "      <td>Antigua and Barbuda</td>\n",
       "      <td>Year</td>\n",
       "      <td>2019</td>\n",
       "      <td>...</td>\n",
       "      <td>BTSX</td>\n",
       "      <td>Age Group</td>\n",
       "      <td>35-44 years of age</td>\n",
       "      <td>35-44</td>\n",
       "      <td>0.0</td>\n",
       "      <td>0.0</td>\n",
       "      <td>EN</td>\n",
       "      <td>2021-07-06T04:00:00.000Z</td>\n",
       "      <td>35</td>\n",
       "      <td>44</td>\n",
       "    </tr>\n",
       "    <tr>\n",
       "      <th>3</th>\n",
       "      <td>SDGSUICIDE</td>\n",
       "      <td>Crude suicide rates (per 100 000 population)</td>\n",
       "      <td>text</td>\n",
       "      <td>AMR</td>\n",
       "      <td>Americas</td>\n",
       "      <td>Country</td>\n",
       "      <td>ATG</td>\n",
       "      <td>Antigua and Barbuda</td>\n",
       "      <td>Year</td>\n",
       "      <td>2019</td>\n",
       "      <td>...</td>\n",
       "      <td>BTSX</td>\n",
       "      <td>Age Group</td>\n",
       "      <td>45-54 years</td>\n",
       "      <td>45-54</td>\n",
       "      <td>0.0</td>\n",
       "      <td>0.0</td>\n",
       "      <td>EN</td>\n",
       "      <td>2021-07-06T04:00:00.000Z</td>\n",
       "      <td>45</td>\n",
       "      <td>54</td>\n",
       "    </tr>\n",
       "    <tr>\n",
       "      <th>4</th>\n",
       "      <td>SDGSUICIDE</td>\n",
       "      <td>Crude suicide rates (per 100 000 population)</td>\n",
       "      <td>text</td>\n",
       "      <td>AMR</td>\n",
       "      <td>Americas</td>\n",
       "      <td>Country</td>\n",
       "      <td>ATG</td>\n",
       "      <td>Antigua and Barbuda</td>\n",
       "      <td>Year</td>\n",
       "      <td>2019</td>\n",
       "      <td>...</td>\n",
       "      <td>BTSX</td>\n",
       "      <td>Age Group</td>\n",
       "      <td>65-74 years</td>\n",
       "      <td>65-74</td>\n",
       "      <td>0.0</td>\n",
       "      <td>0.0</td>\n",
       "      <td>EN</td>\n",
       "      <td>2021-07-06T04:00:00.000Z</td>\n",
       "      <td>65</td>\n",
       "      <td>74</td>\n",
       "    </tr>\n",
       "  </tbody>\n",
       "</table>\n",
       "<p>5 rows × 23 columns</p>\n",
       "</div>"
      ],
      "text/plain": [
       "  IndicatorCode                                     Indicator ValueType  \\\n",
       "0    SDGSUICIDE  Crude suicide rates (per 100 000 population)      text   \n",
       "1    SDGSUICIDE  Crude suicide rates (per 100 000 population)      text   \n",
       "2    SDGSUICIDE  Crude suicide rates (per 100 000 population)      text   \n",
       "3    SDGSUICIDE  Crude suicide rates (per 100 000 population)      text   \n",
       "4    SDGSUICIDE  Crude suicide rates (per 100 000 population)      text   \n",
       "\n",
       "  ParentLocationCode ParentLocation Location type SpatialDimValueCode  \\\n",
       "0                AMR       Americas       Country                 ATG   \n",
       "1                AMR       Americas       Country                 ATG   \n",
       "2                AMR       Americas       Country                 ATG   \n",
       "3                AMR       Americas       Country                 ATG   \n",
       "4                AMR       Americas       Country                 ATG   \n",
       "\n",
       "              Location Period type  Period  ...  Dim1ValueCode  Dim2 type  \\\n",
       "0  Antigua and Barbuda        Year    2019  ...           BTSX  Age Group   \n",
       "1  Antigua and Barbuda        Year    2019  ...           BTSX  Age Group   \n",
       "2  Antigua and Barbuda        Year    2019  ...           BTSX  Age Group   \n",
       "3  Antigua and Barbuda        Year    2019  ...           BTSX  Age Group   \n",
       "4  Antigua and Barbuda        Year    2019  ...           BTSX  Age Group   \n",
       "\n",
       "                 Dim2 Dim2ValueCode FactValueNumeric Value Language  \\\n",
       "0         15-24 years         15-24              0.0   0.0       EN   \n",
       "1  25-34 years of age         25-34              0.0   0.0       EN   \n",
       "2  35-44 years of age         35-44              0.0   0.0       EN   \n",
       "3         45-54 years         45-54              0.0   0.0       EN   \n",
       "4         65-74 years         65-74              0.0   0.0       EN   \n",
       "\n",
       "               DateModified  AgeMin AgeMax  \n",
       "0  2021-07-06T04:00:00.000Z      15     24  \n",
       "1  2021-07-06T04:00:00.000Z      25     34  \n",
       "2  2021-07-06T04:00:00.000Z      35     44  \n",
       "3  2021-07-06T04:00:00.000Z      45     54  \n",
       "4  2021-07-06T04:00:00.000Z      65     74  \n",
       "\n",
       "[5 rows x 23 columns]"
      ]
     },
     "execution_count": 98,
     "metadata": {},
     "output_type": "execute_result"
    }
   ],
   "source": [
    "#Replace YEARS with \"\" to prep for a column split\n",
    "suicides['Dim2ValueCode'] = suicides['Dim2ValueCode'].replace('YEARS', '', regex=True)\n",
    "print(suicides['Dim2ValueCode'].head())\n",
    "\n",
    "#Split Dim2ValueCode (Age) into 2 columns age min/max for EDA and queries\n",
    "suicides['AgeMin'] = suicides['Dim2ValueCode'].str.split('-', expand=True)[0]\n",
    "suicides['AgeMax'] = suicides['Dim2ValueCode'].str.split('-', expand=True)[1]\n",
    "\n",
    "#Check dataframe for accurate split and new columns\n",
    "suicides.head()"
   ]
  },
  {
   "cell_type": "code",
   "execution_count": 99,
   "id": "29f6175f-9bd2-498c-9345-9c932e2ac6ce",
   "metadata": {
    "tags": []
   },
   "outputs": [
    {
     "name": "stdout",
     "output_type": "stream",
     "text": [
      "['IndicatorCode', 'Indicator', 'ValueType', 'ParentLocationCode', 'ParentLocation', 'Location type', 'SpatialDimValueCode', 'Location', 'Period type', 'Period', 'IsLatestYear', 'Dim1 type', 'Dim1', 'Dim1ValueCode', 'Dim2 type', 'Dim2', 'Dim2ValueCode', 'FactValueNumeric', 'Value', 'Language', 'DateModified', 'AgeMin', 'AgeMax']\n"
     ]
    }
   ],
   "source": [
    "# Identify columns to remove to create a clean dataset for EDA\n",
    "suicide_columns = suicides.columns.to_list()\n",
    "print(suicide_columns)\n",
    "\n",
    "#Add desired columns to a list\n",
    "desired_columns = ['ParentLocation', 'Location', 'Period', 'Value', 'Dim1', 'AgeMin', 'AgeMax']"
   ]
  },
  {
   "cell_type": "markdown",
   "id": "e481f4e6-391c-4479-a4e1-5011be8f76c1",
   "metadata": {},
   "source": [
    "### Chosing columns for EDA (Metadata)"
   ]
  },
  {
   "cell_type": "markdown",
   "id": "6495e902-9002-44fc-9ba7-d3d666348f09",
   "metadata": {},
   "source": [
    "-- Metadata on columns for Crude Suicide Rates (per 100 000 population)-- <br>\n",
    "ParentLocation = Region ('Americas', 'Western Pacific', 'Europe', 'Africa', 'South-East Asia', 'Eastern Mediterranean') <br>\n",
    "Location = Country data surveyed (Multitude) <br>\n",
    "Period = Year data collected <br>\n",
    "Value = Crude Suicide Rates (per 100 000 population) <br>\n",
    "Sex = Gender (Male/Female/Both) <br>\n",
    "AgeMin / AgeMax = Age ranges for data (Assume 100 yrs old is max)"
   ]
  },
  {
   "cell_type": "code",
   "execution_count": 100,
   "id": "84bac3d9-e1cf-4e15-8631-4503ff7613b0",
   "metadata": {},
   "outputs": [
    {
     "data": {
      "text/html": [
       "<div>\n",
       "<style scoped>\n",
       "    .dataframe tbody tr th:only-of-type {\n",
       "        vertical-align: middle;\n",
       "    }\n",
       "\n",
       "    .dataframe tbody tr th {\n",
       "        vertical-align: top;\n",
       "    }\n",
       "\n",
       "    .dataframe thead th {\n",
       "        text-align: right;\n",
       "    }\n",
       "</style>\n",
       "<table border=\"1\" class=\"dataframe\">\n",
       "  <thead>\n",
       "    <tr style=\"text-align: right;\">\n",
       "      <th></th>\n",
       "      <th>ParentLocation</th>\n",
       "      <th>Location</th>\n",
       "      <th>Period</th>\n",
       "      <th>Value</th>\n",
       "      <th>Sex</th>\n",
       "      <th>AgeMin</th>\n",
       "      <th>AgeMax</th>\n",
       "    </tr>\n",
       "  </thead>\n",
       "  <tbody>\n",
       "    <tr>\n",
       "      <th>0</th>\n",
       "      <td>Americas</td>\n",
       "      <td>Antigua and Barbuda</td>\n",
       "      <td>2019</td>\n",
       "      <td>0.0</td>\n",
       "      <td>Both sexes</td>\n",
       "      <td>15</td>\n",
       "      <td>24</td>\n",
       "    </tr>\n",
       "    <tr>\n",
       "      <th>1</th>\n",
       "      <td>Americas</td>\n",
       "      <td>Antigua and Barbuda</td>\n",
       "      <td>2019</td>\n",
       "      <td>0.0</td>\n",
       "      <td>Both sexes</td>\n",
       "      <td>25</td>\n",
       "      <td>34</td>\n",
       "    </tr>\n",
       "    <tr>\n",
       "      <th>2</th>\n",
       "      <td>Americas</td>\n",
       "      <td>Antigua and Barbuda</td>\n",
       "      <td>2019</td>\n",
       "      <td>0.0</td>\n",
       "      <td>Both sexes</td>\n",
       "      <td>35</td>\n",
       "      <td>44</td>\n",
       "    </tr>\n",
       "    <tr>\n",
       "      <th>3</th>\n",
       "      <td>Americas</td>\n",
       "      <td>Antigua and Barbuda</td>\n",
       "      <td>2019</td>\n",
       "      <td>0.0</td>\n",
       "      <td>Both sexes</td>\n",
       "      <td>45</td>\n",
       "      <td>54</td>\n",
       "    </tr>\n",
       "    <tr>\n",
       "      <th>4</th>\n",
       "      <td>Americas</td>\n",
       "      <td>Antigua and Barbuda</td>\n",
       "      <td>2019</td>\n",
       "      <td>0.0</td>\n",
       "      <td>Both sexes</td>\n",
       "      <td>65</td>\n",
       "      <td>74</td>\n",
       "    </tr>\n",
       "  </tbody>\n",
       "</table>\n",
       "</div>"
      ],
      "text/plain": [
       "  ParentLocation             Location  Period  Value         Sex AgeMin AgeMax\n",
       "0       Americas  Antigua and Barbuda    2019    0.0  Both sexes     15     24\n",
       "1       Americas  Antigua and Barbuda    2019    0.0  Both sexes     25     34\n",
       "2       Americas  Antigua and Barbuda    2019    0.0  Both sexes     35     44\n",
       "3       Americas  Antigua and Barbuda    2019    0.0  Both sexes     45     54\n",
       "4       Americas  Antigua and Barbuda    2019    0.0  Both sexes     65     74"
      ]
     },
     "execution_count": 100,
     "metadata": {},
     "output_type": "execute_result"
    }
   ],
   "source": [
    "suicides_clean = suicides[desired_columns].rename(columns={'Dim1': 'Sex'})\n",
    "suicides_clean.head()"
   ]
  },
  {
   "cell_type": "code",
   "execution_count": 101,
   "id": "1aada66b-c317-439d-887b-d71d7367000d",
   "metadata": {},
   "outputs": [
    {
     "data": {
      "text/plain": [
       "Both      1464\n",
       "Female    1464\n",
       "Male      1464\n",
       "Name: Sex, dtype: int64"
      ]
     },
     "execution_count": 101,
     "metadata": {},
     "output_type": "execute_result"
    }
   ],
   "source": [
    "# Adjust Sex column where Both sexes = Both for simplicity\n",
    "suicides_clean['Sex'] = suicides_clean.Sex.apply(lambda sex: 'Both' if sex == 'Both sexes' else sex)\n",
    "\n",
    "# Check for correct changes\n",
    "suicides_clean.Sex.value_counts()"
   ]
  },
  {
   "cell_type": "markdown",
   "id": "317a3cf8-d720-429e-bbdb-6c49a2e56aea",
   "metadata": {},
   "source": [
    "### Check/adjust data types to complete data cleaning"
   ]
  },
  {
   "cell_type": "code",
   "execution_count": 102,
   "id": "fd4c9903-363f-420a-afde-9cc524e8db91",
   "metadata": {},
   "outputs": [
    {
     "data": {
      "text/plain": [
       "ParentLocation     object\n",
       "Location           object\n",
       "Period              int64\n",
       "Value             float64\n",
       "Sex                object\n",
       "AgeMin             object\n",
       "AgeMax             object\n",
       "dtype: object"
      ]
     },
     "execution_count": 102,
     "metadata": {},
     "output_type": "execute_result"
    }
   ],
   "source": [
    "suicides_clean.dtypes"
   ]
  },
  {
   "cell_type": "markdown",
   "id": "37e3818f-fd07-4b35-a50a-34005a2af0bd",
   "metadata": {},
   "source": [
    "#### Convert AgeMin/Max to int datatype for EDA"
   ]
  },
  {
   "cell_type": "code",
   "execution_count": 103,
   "id": "05522e54-4636-4855-91d1-984439009682",
   "metadata": {},
   "outputs": [
    {
     "data": {
      "text/html": [
       "<div>\n",
       "<style scoped>\n",
       "    .dataframe tbody tr th:only-of-type {\n",
       "        vertical-align: middle;\n",
       "    }\n",
       "\n",
       "    .dataframe tbody tr th {\n",
       "        vertical-align: top;\n",
       "    }\n",
       "\n",
       "    .dataframe thead th {\n",
       "        text-align: right;\n",
       "    }\n",
       "</style>\n",
       "<table border=\"1\" class=\"dataframe\">\n",
       "  <thead>\n",
       "    <tr style=\"text-align: right;\">\n",
       "      <th></th>\n",
       "      <th>ParentLocation</th>\n",
       "      <th>Location</th>\n",
       "      <th>Period</th>\n",
       "      <th>Value</th>\n",
       "      <th>Sex</th>\n",
       "      <th>AgeMin</th>\n",
       "      <th>AgeMax</th>\n",
       "    </tr>\n",
       "  </thead>\n",
       "  <tbody>\n",
       "    <tr>\n",
       "      <th>6</th>\n",
       "      <td>Americas</td>\n",
       "      <td>Antigua and Barbuda</td>\n",
       "      <td>2019</td>\n",
       "      <td>0.0</td>\n",
       "      <td>Both</td>\n",
       "      <td>85PLUS</td>\n",
       "      <td>None</td>\n",
       "    </tr>\n",
       "    <tr>\n",
       "      <th>13</th>\n",
       "      <td>Americas</td>\n",
       "      <td>Antigua and Barbuda</td>\n",
       "      <td>2019</td>\n",
       "      <td>0.0</td>\n",
       "      <td>Female</td>\n",
       "      <td>85PLUS</td>\n",
       "      <td>None</td>\n",
       "    </tr>\n",
       "    <tr>\n",
       "      <th>21</th>\n",
       "      <td>Americas</td>\n",
       "      <td>Antigua and Barbuda</td>\n",
       "      <td>2019</td>\n",
       "      <td>0.0</td>\n",
       "      <td>Male</td>\n",
       "      <td>85PLUS</td>\n",
       "      <td>None</td>\n",
       "    </tr>\n",
       "    <tr>\n",
       "      <th>26</th>\n",
       "      <td>Americas</td>\n",
       "      <td>Barbados</td>\n",
       "      <td>2019</td>\n",
       "      <td>0.0</td>\n",
       "      <td>Both</td>\n",
       "      <td>85PLUS</td>\n",
       "      <td>None</td>\n",
       "    </tr>\n",
       "    <tr>\n",
       "      <th>33</th>\n",
       "      <td>Americas</td>\n",
       "      <td>Barbados</td>\n",
       "      <td>2019</td>\n",
       "      <td>0.0</td>\n",
       "      <td>Female</td>\n",
       "      <td>85PLUS</td>\n",
       "      <td>None</td>\n",
       "    </tr>\n",
       "  </tbody>\n",
       "</table>\n",
       "</div>"
      ],
      "text/plain": [
       "   ParentLocation             Location  Period  Value     Sex  AgeMin AgeMax\n",
       "6        Americas  Antigua and Barbuda    2019    0.0    Both  85PLUS   None\n",
       "13       Americas  Antigua and Barbuda    2019    0.0  Female  85PLUS   None\n",
       "21       Americas  Antigua and Barbuda    2019    0.0    Male  85PLUS   None\n",
       "26       Americas             Barbados    2019    0.0    Both  85PLUS   None\n",
       "33       Americas             Barbados    2019    0.0  Female  85PLUS   None"
      ]
     },
     "execution_count": 103,
     "metadata": {},
     "output_type": "execute_result"
    }
   ],
   "source": [
    "#Check values of both AgeMin/Max columns to see to check for strings to remove\n",
    "suicides_clean.AgeMin.value_counts()\n",
    "suicides_clean[suicides_clean.AgeMin == '85PLUS'].head()"
   ]
  },
  {
   "cell_type": "code",
   "execution_count": 104,
   "id": "fa1f14ed-c0cf-40a8-a35d-dc6aae93894f",
   "metadata": {},
   "outputs": [
    {
     "data": {
      "text/plain": [
       "15    549\n",
       "25    549\n",
       "35    549\n",
       "45    549\n",
       "65    549\n",
       "75    549\n",
       "85    549\n",
       "55    549\n",
       "Name: AgeMin, dtype: int64"
      ]
     },
     "execution_count": 104,
     "metadata": {},
     "output_type": "execute_result"
    }
   ],
   "source": [
    "#Convert strings to int to prep for dtype change\n",
    "suicides_clean['AgeMin'] = suicides_clean.AgeMin.apply(lambda age: 85 if age == '85PLUS' else age)\n",
    "\n",
    "#Check for correct changes\n",
    "suicides_clean.AgeMin.value_counts()"
   ]
  },
  {
   "cell_type": "code",
   "execution_count": 105,
   "id": "f9f54084-8db0-4f8d-b2ec-ce9070068041",
   "metadata": {},
   "outputs": [
    {
     "data": {
      "text/plain": [
       "array(['24', '34', '44', '54', '74', '84', None, '64'], dtype=object)"
      ]
     },
     "execution_count": 105,
     "metadata": {},
     "output_type": "execute_result"
    }
   ],
   "source": [
    "#Check for values of AgeMax to clean\n",
    "suicides_clean.AgeMax.unique()"
   ]
  },
  {
   "cell_type": "code",
   "execution_count": 106,
   "id": "e8660bbb-0991-4b3e-a3b7-d3b1b079fac5",
   "metadata": {},
   "outputs": [
    {
     "data": {
      "text/plain": [
       "ParentLocation      0\n",
       "Location            0\n",
       "Period              0\n",
       "Value               0\n",
       "Sex                 0\n",
       "AgeMin              0\n",
       "AgeMax            549\n",
       "dtype: int64"
      ]
     },
     "execution_count": 106,
     "metadata": {},
     "output_type": "execute_result"
    }
   ],
   "source": [
    "suicides_clean.isnull().sum()"
   ]
  },
  {
   "cell_type": "code",
   "execution_count": 107,
   "id": "ce7bd580-8123-419a-8cf6-4c51c6419cd5",
   "metadata": {},
   "outputs": [
    {
     "data": {
      "text/plain": [
       "array(['24', '34', '44', '54', '74', '84', 100, '64'], dtype=object)"
      ]
     },
     "execution_count": 107,
     "metadata": {},
     "output_type": "execute_result"
    }
   ],
   "source": [
    "#Fill na to prep for conversion to int dtype\n",
    "#Assume 100 is the max\n",
    "suicides_clean.fillna(value={'AgeMax': 100}, inplace=True)\n",
    "\n",
    "#Check for correct changes\n",
    "suicides_clean.AgeMax.unique()"
   ]
  },
  {
   "cell_type": "code",
   "execution_count": 108,
   "id": "2dab03d7-11f9-44e2-a05b-9e698d3f10ed",
   "metadata": {},
   "outputs": [
    {
     "data": {
      "text/plain": [
       "ParentLocation     object\n",
       "Location           object\n",
       "Period              int64\n",
       "Value             float64\n",
       "Sex                object\n",
       "AgeMin              int64\n",
       "AgeMax              int64\n",
       "dtype: object"
      ]
     },
     "execution_count": 108,
     "metadata": {},
     "output_type": "execute_result"
    }
   ],
   "source": [
    "#Convert to int dtype for EDA and to complete data cleaning\n",
    "suicides_clean['AgeMin'] = pd.to_numeric(suicides_clean.AgeMin)\n",
    "suicides_clean['AgeMax'] = pd.to_numeric(suicides_clean.AgeMax)\n",
    "\n",
    "#Check for correct changes to complete data cleaning\n",
    "suicides_clean.dtypes"
   ]
  },
  {
   "cell_type": "markdown",
   "id": "5dbf7541-013f-4370-8d59-1be12f879cdd",
   "metadata": {},
   "source": [
    "### Univariate Data Profiling"
   ]
  },
  {
   "cell_type": "markdown",
   "id": "4c3c9d4c-8b2d-444b-b57f-47166dccc2a8",
   "metadata": {},
   "source": [
    "Initial summary statistics to get a general picture of the data. <br>\n",
    "Also to generate questions to answer using the data and potential model building"
   ]
  },
  {
   "cell_type": "code",
   "execution_count": 109,
   "id": "718d223f-e8a9-46e5-a4bb-481130d0aef2",
   "metadata": {},
   "outputs": [
    {
     "data": {
      "text/html": [
       "<div>\n",
       "<style scoped>\n",
       "    .dataframe tbody tr th:only-of-type {\n",
       "        vertical-align: middle;\n",
       "    }\n",
       "\n",
       "    .dataframe tbody tr th {\n",
       "        vertical-align: top;\n",
       "    }\n",
       "\n",
       "    .dataframe thead th {\n",
       "        text-align: right;\n",
       "    }\n",
       "</style>\n",
       "<table border=\"1\" class=\"dataframe\">\n",
       "  <thead>\n",
       "    <tr style=\"text-align: right;\">\n",
       "      <th></th>\n",
       "      <th>Period</th>\n",
       "      <th>Value</th>\n",
       "      <th>AgeMin</th>\n",
       "      <th>AgeMax</th>\n",
       "    </tr>\n",
       "  </thead>\n",
       "  <tbody>\n",
       "    <tr>\n",
       "      <th>count</th>\n",
       "      <td>4392.0</td>\n",
       "      <td>4392.000000</td>\n",
       "      <td>4392.000000</td>\n",
       "      <td>4392.000000</td>\n",
       "    </tr>\n",
       "    <tr>\n",
       "      <th>mean</th>\n",
       "      <td>2019.0</td>\n",
       "      <td>23.242739</td>\n",
       "      <td>50.000000</td>\n",
       "      <td>59.750000</td>\n",
       "    </tr>\n",
       "    <tr>\n",
       "      <th>std</th>\n",
       "      <td>0.0</td>\n",
       "      <td>43.466528</td>\n",
       "      <td>22.915487</td>\n",
       "      <td>24.115761</td>\n",
       "    </tr>\n",
       "    <tr>\n",
       "      <th>min</th>\n",
       "      <td>2019.0</td>\n",
       "      <td>0.000000</td>\n",
       "      <td>15.000000</td>\n",
       "      <td>24.000000</td>\n",
       "    </tr>\n",
       "    <tr>\n",
       "      <th>25%</th>\n",
       "      <td>2019.0</td>\n",
       "      <td>4.890000</td>\n",
       "      <td>32.500000</td>\n",
       "      <td>41.500000</td>\n",
       "    </tr>\n",
       "    <tr>\n",
       "      <th>50%</th>\n",
       "      <td>2019.0</td>\n",
       "      <td>10.735000</td>\n",
       "      <td>50.000000</td>\n",
       "      <td>59.000000</td>\n",
       "    </tr>\n",
       "    <tr>\n",
       "      <th>75%</th>\n",
       "      <td>2019.0</td>\n",
       "      <td>23.577500</td>\n",
       "      <td>67.500000</td>\n",
       "      <td>76.500000</td>\n",
       "    </tr>\n",
       "    <tr>\n",
       "      <th>max</th>\n",
       "      <td>2019.0</td>\n",
       "      <td>646.000000</td>\n",
       "      <td>85.000000</td>\n",
       "      <td>100.000000</td>\n",
       "    </tr>\n",
       "  </tbody>\n",
       "</table>\n",
       "</div>"
      ],
      "text/plain": [
       "       Period        Value       AgeMin       AgeMax\n",
       "count  4392.0  4392.000000  4392.000000  4392.000000\n",
       "mean   2019.0    23.242739    50.000000    59.750000\n",
       "std       0.0    43.466528    22.915487    24.115761\n",
       "min    2019.0     0.000000    15.000000    24.000000\n",
       "25%    2019.0     4.890000    32.500000    41.500000\n",
       "50%    2019.0    10.735000    50.000000    59.000000\n",
       "75%    2019.0    23.577500    67.500000    76.500000\n",
       "max    2019.0   646.000000    85.000000   100.000000"
      ]
     },
     "execution_count": 109,
     "metadata": {},
     "output_type": "execute_result"
    }
   ],
   "source": [
    "suicides_clean.describe()"
   ]
  },
  {
   "cell_type": "markdown",
   "id": "dbceb7be-468e-4340-aba4-764b2fb2fe8d",
   "metadata": {},
   "source": [
    "##### Mean suicide rates for by region"
   ]
  },
  {
   "cell_type": "code",
   "execution_count": 110,
   "id": "e7aba8a7-5b75-451a-887e-0e5d03dcca02",
   "metadata": {},
   "outputs": [
    {
     "data": {
      "text/plain": [
       "<matplotlib.lines.Line2D at 0x1b221f0c1c0>"
      ]
     },
     "execution_count": 110,
     "metadata": {},
     "output_type": "execute_result"
    },
    {
     "data": {
      "image/png": "[encoded data removed]",
      "text/plain": [
       "<Figure size 432x288 with 1 Axes>"
      ]
     },
     "metadata": {
      "needs_background": "light"
     },
     "output_type": "display_data"
    }
   ],
   "source": [
    "# Mean suicides rates including all regions to serve as a reference point in the bar graph \n",
    "suicide_rates_mean = suicides_clean.Value.mean()\n",
    "\n",
    "# Sort values for each region in desending order for ordered barplot\n",
    "suicides_means_sorted = suicides_clean.groupby(by='ParentLocation', as_index=False).Value.mean().sort_values(by='Value', ascending=False)\n",
    "\n",
    "# Visualization of the means to identify trends\n",
    "sns.barplot(data=suicides_means_sorted, y='ParentLocation', x='Value')\n",
    "plt.axvline(suicide_rates_mean, linestyle='--', color='black')"
   ]
  },
  {
   "cell_type": "markdown",
   "id": "1c3db028-0c85-40dd-9538-44479f5e96ae",
   "metadata": {},
   "source": [
    "Africa mean suicide rates exceed all other regions and the total average by nearly double or more<br>"
   ]
  },
  {
   "cell_type": "markdown",
   "id": "f5fd043d-43b4-4e7f-a83a-3177d9874f63",
   "metadata": {
    "tags": []
   },
   "source": [
    "##### Median suicide rates for by region"
   ]
  },
  {
   "cell_type": "code",
   "execution_count": 111,
   "id": "804c9d45-7ccd-4dfd-9c69-3fddc119a2af",
   "metadata": {},
   "outputs": [
    {
     "data": {
      "text/plain": [
       "<matplotlib.lines.Line2D at 0x1b2071b3e20>"
      ]
     },
     "execution_count": 111,
     "metadata": {},
     "output_type": "execute_result"
    },
    {
     "data": {
      "image/png": "[encoded data removed]",
      "text/plain": [
       "<Figure size 432x288 with 1 Axes>"
      ]
     },
     "metadata": {
      "needs_background": "light"
     },
     "output_type": "display_data"
    }
   ],
   "source": [
    "# Median suicides rates including all regions to serve as a reference point in the bar graph \n",
    "suicide_rates_median = suicides_clean.Value.median()\n",
    "\n",
    "# Sort values for each region in desending order for ordered barplot\n",
    "suicides_median_sorted = suicides_clean.groupby(by='ParentLocation', as_index=False).Value.median().sort_values(by='Value', ascending=False)\n",
    "\n",
    "# Visualization of the medians to identify trends\n",
    "sns.barplot(data=suicides_median_sorted, y='ParentLocation', x='Value')\n",
    "plt.axvline(suicide_rates_mean, linestyle='--', color='black')"
   ]
  },
  {
   "cell_type": "markdown",
   "id": "37ac4740-d592-4da3-bd32-06f53da06f1b",
   "metadata": {},
   "source": [
    "Africa median suicide rates exceeds all other regions but not to the extent of the mean suicide rates<br>\n",
    "Median is more resistant summary statistic to outliers which can explain the differences<br>\n",
    "The presence of outliers will have to be explored with histograms/boxplots"
   ]
  },
  {
   "cell_type": "code",
   "execution_count": 112,
   "id": "ec29ef8f-6b0a-4183-be9e-82f3084c31c5",
   "metadata": {},
   "outputs": [
    {
     "data": {
      "text/plain": [
       "<AxesSubplot:xlabel='Value', ylabel='Count'>"
      ]
     },
     "execution_count": 112,
     "metadata": {},
     "output_type": "execute_result"
    },
    {
     "data": {
      "image/png": "[encoded data removed]",
      "text/plain": [
       "<Figure size 432x288 with 1 Axes>"
      ]
     },
     "metadata": {
      "needs_background": "light"
     },
     "output_type": "display_data"
    }
   ],
   "source": [
    "#Histogram to visualize the spread of the suicide rates of all countries together\n",
    "sns.histplot(data=suicides_clean, x='Value')"
   ]
  },
  {
   "cell_type": "markdown",
   "id": "3cc9ba03-6e49-434f-bd48-6fb212879596",
   "metadata": {},
   "source": [
    "Coarse search reveals right skewed spread due to outliers (All countries) <br>"
   ]
  },
  {
   "cell_type": "markdown",
   "id": "6f5f1143-4ee4-4f5a-9834-32bb3b51586f",
   "metadata": {},
   "source": [
    "#### Are the suicide rates skewed for each region?"
   ]
  },
  {
   "cell_type": "code",
   "execution_count": 113,
   "id": "9165798e-ee18-4c84-8173-7937f4afdd0f",
   "metadata": {},
   "outputs": [
    {
     "data": {
      "text/plain": [
       "<seaborn.axisgrid.FacetGrid at 0x1b22258f790>"
      ]
     },
     "execution_count": 113,
     "metadata": {},
     "output_type": "execute_result"
    },
    {
     "data": {
      "image/png": "[encoded data removed]",
      "text/plain": [
       "<Figure size 1080x720 with 6 Axes>"
      ]
     },
     "metadata": {
      "needs_background": "light"
     },
     "output_type": "display_data"
    }
   ],
   "source": [
    "#Figure level plot to aid visualization\n",
    "sns.displot(data=suicides_clean, x='Value', col='ParentLocation', col_wrap=3)"
   ]
  },
  {
   "cell_type": "markdown",
   "id": "67de9564-d2c5-4ebd-8a90-45cfe2d1989f",
   "metadata": {},
   "source": [
    "Spread is still right skewed at the region level <br>\n",
    "An indepth look at the IQR, median and range is needed"
   ]
  },
  {
   "cell_type": "code",
   "execution_count": 114,
   "id": "ae05ea50-941c-41e5-91be-5d3e46acc06f",
   "metadata": {},
   "outputs": [
    {
     "data": {
      "text/plain": [
       "<AxesSubplot:xlabel='Value', ylabel='ParentLocation'>"
      ]
     },
     "execution_count": 114,
     "metadata": {},
     "output_type": "execute_result"
    },
    {
     "data": {
      "image/png": "[encoded data removed]",
      "text/plain": [
       "<Figure size 432x288 with 1 Axes>"
      ]
     },
     "metadata": {
      "needs_background": "light"
     },
     "output_type": "display_data"
    }
   ],
   "source": [
    "sns.boxplot(data=suicides_clean, x='Value', y='ParentLocation')"
   ]
  },
  {
   "cell_type": "markdown",
   "id": "4b59a12c-d634-4cd3-b2be-209293b162ff",
   "metadata": {},
   "source": [
    "Africa appears to have the largest range for suicide rates <br>\n",
    "The IQR and median is higher than other regions as well"
   ]
  },
  {
   "cell_type": "markdown",
   "id": "d2556757-963d-4c0e-8da2-325408cf8bc9",
   "metadata": {
    "tags": []
   },
   "source": [
    "### Are the suicide rates for each region statiscally different?<br>\n",
    "Null Hypothesis - The suicides rates means do not differ between regions<br>\n",
    "Alt Hypothesis - Suicide rates are not equal between the regions"
   ]
  },
  {
   "cell_type": "markdown",
   "id": "06980f14-9edb-4d66-aee1-2af6eaa4ca31",
   "metadata": {
    "tags": []
   },
   "source": [
    "#### One way ANOVA Test<br>"
   ]
  },
  {
   "cell_type": "markdown",
   "id": "59d1bd14-3f1f-4e01-a4d9-f1ba32a705c6",
   "metadata": {
    "tags": []
   },
   "source": [
    "##### ANOVA Assumptions<br>\n",
    "--- Taken from codecademy ---<br>\n",
    "(1) All observations should be independently and randomly sampled<br>\n",
    "(2) The standard deviations of the groups should be equal<br>\n",
    "(3) The data should be normally distributed or the sample size should be large<br>\n",
    "(4) The groups created by the categorical variable should be independent<br>\n",
    "-------------------------------- <br>\n",
    "Signifcance Threshold = 0.05"
   ]
  },
  {
   "cell_type": "code",
   "execution_count": 115,
   "id": "da66340c-35f1-43e8-88d7-1953d689e206",
   "metadata": {},
   "outputs": [
    {
     "data": {
      "text/plain": [
       "Europe                   1200\n",
       "Africa                   1128\n",
       "Americas                  792\n",
       "Western Pacific           504\n",
       "Eastern Mediterranean     504\n",
       "South-East Asia           264\n",
       "Name: ParentLocation, dtype: int64"
      ]
     },
     "execution_count": 115,
     "metadata": {},
     "output_type": "execute_result"
    }
   ],
   "source": [
    "# Checking for sample sizes between regions. Ideally sample sizes between categories should be close\n",
    "suicides_clean.ParentLocation.value_counts()"
   ]
  },
  {
   "cell_type": "code",
   "execution_count": 116,
   "id": "ca6ba6f8-b7db-4524-bb18-59aac9ed021c",
   "metadata": {},
   "outputs": [
    {
     "name": "stdout",
     "output_type": "stream",
     "text": [
      "Americas 22.964103466021808\n",
      "Western Pacific 25.380683249866067\n",
      "Europe 20.74263758880902\n",
      "Africa 73.00099272699414\n",
      "South-East Asia 18.025657547367828\n",
      "Eastern Mediterranean 20.032300343547757\n"
     ]
    }
   ],
   "source": [
    "#Calculating std of each region to check if assumption 2 is met (std of groups should be equal)\n",
    "regions = list(suicides_clean.ParentLocation.unique())\n",
    "\n",
    "for region in regions:\n",
    "    print(region, suicides_clean[suicides_clean.ParentLocation == region].Value.std())"
   ]
  },
  {
   "cell_type": "markdown",
   "id": "e8d6f180-34e5-45f3-8f01-f0b2ccb25e1d",
   "metadata": {},
   "source": [
    "#### Zscore Normalization"
   ]
  },
  {
   "cell_type": "code",
   "execution_count": 117,
   "id": "8ba20253-34db-4c73-841e-99a54aaa44a6",
   "metadata": {},
   "outputs": [
    {
     "data": {
      "text/plain": [
       "Europe                   1194\n",
       "Africa                   1053\n",
       "Americas                  790\n",
       "Western Pacific           502\n",
       "Eastern Mediterranean     501\n",
       "South-East Asia           263\n",
       "Name: ParentLocation, dtype: int64"
      ]
     },
     "execution_count": 117,
     "metadata": {},
     "output_type": "execute_result"
    }
   ],
   "source": [
    "#Use the zscore of the value column to reduce the effects of outliers on assumptions 2 and 3\n",
    "zscore_standard_threshold = 3\n",
    "suicides_zscored = suicides_clean[(np.abs(zscore(suicides_clean.Value)) < zscore_standard_threshold)]\n",
    "suicides_zscored.ParentLocation.value_counts()"
   ]
  },
  {
   "cell_type": "code",
   "execution_count": 118,
   "id": "4e08336d-fce9-4ff2-8df7-94b8a1f39772",
   "metadata": {},
   "outputs": [
    {
     "name": "stdout",
     "output_type": "stream",
     "text": [
      "Americas 17.263127064688007\n",
      "Western Pacific 20.631981315163138\n",
      "Europe 16.86252664801223\n",
      "Africa 31.282724244398867\n",
      "South-East Asia 14.494568035436131\n",
      "Eastern Mediterranean 12.649211232041882\n"
     ]
    }
   ],
   "source": [
    "#Checking std difference after zscore to meet ANOVA assumption 2\n",
    "for region in regions:\n",
    "    print(region, suicides_zscored[suicides_zscored.ParentLocation == region].Value.std())"
   ]
  },
  {
   "cell_type": "code",
   "execution_count": 119,
   "id": "78c2fe53-375c-4e4f-a035-f96415326a93",
   "metadata": {},
   "outputs": [
    {
     "data": {
      "text/plain": [
       "<AxesSubplot:xlabel='Value', ylabel='ParentLocation'>"
      ]
     },
     "execution_count": 119,
     "metadata": {},
     "output_type": "execute_result"
    },
    {
     "data": {
      "image/png": "[encoded data removed]",
      "text/plain": [
       "<Figure size 432x288 with 1 Axes>"
      ]
     },
     "metadata": {
      "needs_background": "light"
     },
     "output_type": "display_data"
    }
   ],
   "source": [
    "#Visualization of zcored distribution for assumption 3\n",
    "sns.boxplot(data=suicides_zscored, x='Value', y='ParentLocation')"
   ]
  },
  {
   "cell_type": "markdown",
   "id": "582ea44c-7618-4a61-92e8-b5ad4a9ac27a",
   "metadata": {},
   "source": [
    "Zscored boxplot of suicide rates  ----<br> \n",
    "It's easier to see Africa has a larger median, IQR and range<br>\n",
    "The Eastern Mediterranean appears to have the lowest suicide rates"
   ]
  },
  {
   "cell_type": "markdown",
   "id": "49a5c0eb-bf25-4509-b161-8311ac642073",
   "metadata": {},
   "source": [
    "#### Zscore normalization ANOVA Test"
   ]
  },
  {
   "cell_type": "code",
   "execution_count": 120,
   "id": "2bdd89e6-6274-4742-bec4-2b59275e0b05",
   "metadata": {},
   "outputs": [
    {
     "name": "stdout",
     "output_type": "stream",
     "text": [
      "dict_keys(['Americas', 'Western Pacific', 'Europe', 'Africa', 'South-East Asia', 'Eastern Mediterranean'])\n"
     ]
    }
   ],
   "source": [
    "#Dividing suicide rates by region to prep for anova test\n",
    "suicide_regions = {region:suicides_zscored.Value[suicides_zscored.ParentLocation == region] for region in regions}\n",
    "print(suicide_regions.keys())"
   ]
  },
  {
   "cell_type": "code",
   "execution_count": 121,
   "id": "5152090b-6246-4088-921f-a73c5fd0f185",
   "metadata": {},
   "outputs": [
    {
     "name": "stdout",
     "output_type": "stream",
     "text": [
      "1.1739667390651843e-84\n"
     ]
    }
   ],
   "source": [
    "#Anova test to determine if the pval is significant\n",
    "fstat, pval = f_oneway(suicide_regions['Americas'], suicide_regions['Europe'], suicide_regions['Africa'],\n",
    "                       suicide_regions['South-East Asia'], suicide_regions['Eastern Mediterranean'], suicide_regions['Western Pacific'])\n",
    "print(pval)"
   ]
  },
  {
   "cell_type": "code",
   "execution_count": 122,
   "id": "b9c1e2ca-00ab-4277-871b-d0e26137aff0",
   "metadata": {},
   "outputs": [
    {
     "name": "stdout",
     "output_type": "stream",
     "text": [
      "                Multiple Comparison of Means - Tukey HSD, FWER=0.05                 \n",
      "====================================================================================\n",
      "        group1                group2        meandiff p-adj   lower    upper   reject\n",
      "------------------------------------------------------------------------------------\n",
      "               Africa              Americas -16.7287   -0.0 -19.5889 -13.8684   True\n",
      "               Africa Eastern Mediterranean -18.9917   -0.0 -22.2898 -15.6936   True\n",
      "               Africa                Europe -11.8437   -0.0 -14.4127  -9.2747   True\n",
      "               Africa       South-East Asia -15.2708   -0.0 -19.4598 -11.0819   True\n",
      "               Africa       Western Pacific  -9.6405   -0.0 -12.9364  -6.3447   True\n",
      "             Americas Eastern Mediterranean  -2.2631 0.4278  -5.7337   1.2075  False\n",
      "             Americas                Europe   4.8849    0.0    2.098   7.6719   True\n",
      "             Americas       South-East Asia   1.4578 0.9302  -2.8683   5.7839  False\n",
      "             Americas       Western Pacific   7.0881    0.0   3.6196  10.5566   True\n",
      "Eastern Mediterranean                Europe    7.148    0.0   3.9133  10.3827   True\n",
      "Eastern Mediterranean       South-East Asia   3.7209 0.1972  -0.9063   8.3481  False\n",
      "Eastern Mediterranean       Western Pacific   9.3512    0.0   5.5137  13.1887   True\n",
      "               Europe       South-East Asia  -3.4271 0.1706  -7.5664   0.7121  False\n",
      "               Europe       Western Pacific   2.2032 0.3758  -1.0293   5.4356  False\n",
      "      South-East Asia       Western Pacific   5.6303  0.007   1.0046   10.256   True\n",
      "------------------------------------------------------------------------------------\n"
     ]
    }
   ],
   "source": [
    "#Tukey's Range Test to determine which pairings are significant\n",
    "sig_threshold = 0.05\n",
    "tukey_results = pairwise_tukeyhsd(suicides_zscored.Value, suicides_zscored.ParentLocation, sig_threshold)\n",
    "print(tukey_results)"
   ]
  },
  {
   "cell_type": "markdown",
   "id": "34934483-df0a-41e8-81ee-67f4cab0396a",
   "metadata": {},
   "source": [
    "##### Africa is significantly different from every other region<br>\n",
    "Region pairs that are not significantly different are: (pval >= 0.05)<br>\n",
    "Americas - Eastern Mediterranean<br>\n",
    "Americas - South-East Asia<br>\n",
    "Eastern Mediterranean - South-East Asia<br>\n",
    "Europe - South-East Asia<br>\n",
    "Europe - Western Pacific<br>\n"
   ]
  },
  {
   "cell_type": "markdown",
   "id": "52e4bb0c-3cd2-4cdc-a497-916929bc69a2",
   "metadata": {},
   "source": [
    "The Zscored Suicide Rates ANOVA test results should be used with caution. Assumption 2 and 3 are not closely followed even after the removal of outliers.<br>\n",
    "A Natural Log (ln) standarization of suicide rates should be tested for comparison"
   ]
  },
  {
   "cell_type": "markdown",
   "id": "58645205-37d2-4355-8b55-1d1b92ec75a1",
   "metadata": {},
   "source": [
    "#### Natural Log Transformation"
   ]
  },
  {
   "cell_type": "markdown",
   "id": "9fe31544-e2ab-49ac-ab07-caf7eaacc483",
   "metadata": {},
   "source": [
    "Useful to transform right skewed data into a more normal distribution<br>\n",
    "Cannot be used with negative values or zero as the ln of a negative = undefined"
   ]
  },
  {
   "cell_type": "code",
   "execution_count": 132,
   "id": "e45e60c9-becc-4f92-9d04-752c0f52a14b",
   "metadata": {},
   "outputs": [
    {
     "name": "stdout",
     "output_type": "stream",
     "text": [
      "104 records removed\n"
     ]
    },
    {
     "data": {
      "text/html": [
       "<div>\n",
       "<style scoped>\n",
       "    .dataframe tbody tr th:only-of-type {\n",
       "        vertical-align: middle;\n",
       "    }\n",
       "\n",
       "    .dataframe tbody tr th {\n",
       "        vertical-align: top;\n",
       "    }\n",
       "\n",
       "    .dataframe thead th {\n",
       "        text-align: right;\n",
       "    }\n",
       "</style>\n",
       "<table border=\"1\" class=\"dataframe\">\n",
       "  <thead>\n",
       "    <tr style=\"text-align: right;\">\n",
       "      <th></th>\n",
       "      <th>ParentLocation</th>\n",
       "      <th>Location</th>\n",
       "      <th>Period</th>\n",
       "      <th>Value</th>\n",
       "      <th>Sex</th>\n",
       "      <th>AgeMin</th>\n",
       "      <th>AgeMax</th>\n",
       "    </tr>\n",
       "  </thead>\n",
       "  <tbody>\n",
       "    <tr>\n",
       "      <th>104</th>\n",
       "      <td>Americas</td>\n",
       "      <td>Barbados</td>\n",
       "      <td>2019</td>\n",
       "      <td>-1.049822</td>\n",
       "      <td>Both</td>\n",
       "      <td>35</td>\n",
       "      <td>44</td>\n",
       "    </tr>\n",
       "    <tr>\n",
       "      <th>105</th>\n",
       "      <td>Americas</td>\n",
       "      <td>Panama</td>\n",
       "      <td>2019</td>\n",
       "      <td>-0.755023</td>\n",
       "      <td>Female</td>\n",
       "      <td>35</td>\n",
       "      <td>44</td>\n",
       "    </tr>\n",
       "    <tr>\n",
       "      <th>106</th>\n",
       "      <td>Europe</td>\n",
       "      <td>Armenia</td>\n",
       "      <td>2019</td>\n",
       "      <td>-0.579818</td>\n",
       "      <td>Female</td>\n",
       "      <td>35</td>\n",
       "      <td>44</td>\n",
       "    </tr>\n",
       "    <tr>\n",
       "      <th>107</th>\n",
       "      <td>Americas</td>\n",
       "      <td>Panama</td>\n",
       "      <td>2019</td>\n",
       "      <td>-0.579818</td>\n",
       "      <td>Female</td>\n",
       "      <td>45</td>\n",
       "      <td>54</td>\n",
       "    </tr>\n",
       "    <tr>\n",
       "      <th>108</th>\n",
       "      <td>South-East Asia</td>\n",
       "      <td>Maldives</td>\n",
       "      <td>2019</td>\n",
       "      <td>-0.562119</td>\n",
       "      <td>Female</td>\n",
       "      <td>35</td>\n",
       "      <td>44</td>\n",
       "    </tr>\n",
       "  </tbody>\n",
       "</table>\n",
       "</div>"
      ],
      "text/plain": [
       "      ParentLocation  Location  Period     Value     Sex  AgeMin  AgeMax\n",
       "104         Americas  Barbados    2019 -1.049822    Both      35      44\n",
       "105         Americas    Panama    2019 -0.755023  Female      35      44\n",
       "106           Europe   Armenia    2019 -0.579818  Female      35      44\n",
       "107         Americas    Panama    2019 -0.579818  Female      45      54\n",
       "108  South-East Asia  Maldives    2019 -0.562119  Female      35      44"
      ]
     },
     "execution_count": 132,
     "metadata": {},
     "output_type": "execute_result"
    }
   ],
   "source": [
    "# Copy to perform ln transformation to preserve clean dataset\n",
    "suicides_ln = suicides_clean.copy()\n",
    "\n",
    "#Remove all suicide rates <=0 to prep for transformation\n",
    "suicides_ln = suicides_ln[suicides_ln.Value > 0]\n",
    "\n",
    "# Check number of records removed\n",
    "records_removed = len(suicides_clean) - len(suicides_ln)\n",
    "print(f'{records_removed} records removed')\n",
    "\n",
    "# ln transformation for data profiling and ANOVA test\n",
    "suicides_ln['Value'] = np.log(suicides_ln['Value'])\n",
    "suicides_ln.head()"
   ]
  },
  {
   "cell_type": "code",
   "execution_count": 133,
   "id": "e6b645fb-b3c7-4e60-a625-384ab1c4afab",
   "metadata": {},
   "outputs": [
    {
     "name": "stdout",
     "output_type": "stream",
     "text": [
      "Americas 1.06146108159323\n",
      "Western Pacific 0.9396810223680948\n",
      "Europe 0.9617429300782172\n",
      "Africa 1.365173016942006\n",
      "South-East Asia 1.0310594118310943\n",
      "Eastern Mediterranean 0.9159559447494597\n"
     ]
    }
   ],
   "source": [
    "#Calculating std of each region to check if assumption 2 is met (std of groups should be equal)\n",
    "for region in regions:\n",
    "    print(region, suicides_ln[suicides_ln.ParentLocation == region].Value.std())"
   ]
  },
  {
   "cell_type": "code",
   "execution_count": 134,
   "id": "58b46280-1a57-4abc-9827-496560f415fc",
   "metadata": {},
   "outputs": [
    {
     "data": {
      "text/plain": [
       "<AxesSubplot:xlabel='Value', ylabel='ParentLocation'>"
      ]
     },
     "execution_count": 134,
     "metadata": {},
     "output_type": "execute_result"
    },
    {
     "data": {
      "image/png": "[encoded data removed]",
      "text/plain": [
       "<Figure size 432x288 with 1 Axes>"
      ]
     },
     "metadata": {
      "needs_background": "light"
     },
     "output_type": "display_data"
    }
   ],
   "source": [
    "#Visualization of ln transformation distribution for assumption 3\n",
    "sns.boxplot(data=suicides_ln, x='Value', y='ParentLocation')"
   ]
  },
  {
   "cell_type": "code",
   "execution_count": 135,
   "id": "47dbb41d-943e-4bb3-b14f-c1ecc6d3fa75",
   "metadata": {},
   "outputs": [
    {
     "data": {
      "text/plain": [
       "<seaborn.axisgrid.FacetGrid at 0x1b223dbb490>"
      ]
     },
     "execution_count": 135,
     "metadata": {},
     "output_type": "execute_result"
    },
    {
     "data": {
      "image/png": "[encoded data removed]",
      "text/plain": [
       "<Figure size 1080x720 with 6 Axes>"
      ]
     },
     "metadata": {
      "needs_background": "light"
     },
     "output_type": "display_data"
    }
   ],
   "source": [
    "sns.displot(data=suicides_ln, x='Value', col='ParentLocation', col_wrap=3)"
   ]
  },
  {
   "cell_type": "markdown",
   "id": "4c27569c-13a2-4ec7-8346-46bbe5e91c15",
   "metadata": {},
   "source": [
    "Distribution for each region normalized compared to clean dataset<br>\n",
    "Suicide Rates = e^Value"
   ]
  },
  {
   "cell_type": "markdown",
   "id": "f1824219-a531-4495-8c99-ec3bb7f5b5e3",
   "metadata": {},
   "source": [
    "#### Natural log transformation ANOVA Test"
   ]
  },
  {
   "cell_type": "code",
   "execution_count": 136,
   "id": "75fc1727-aa92-4a2d-82e0-c2f051dd75b5",
   "metadata": {},
   "outputs": [
    {
     "name": "stdout",
     "output_type": "stream",
     "text": [
      "dict_keys(['Americas', 'Western Pacific', 'Europe', 'Africa', 'South-East Asia', 'Eastern Mediterranean'])\n"
     ]
    }
   ],
   "source": [
    "#Dividing suicide rates by region to prep for anova test\n",
    "suicide_regions2 = {region:suicides_ln.Value[suicides_ln.ParentLocation == region] for region in regions}\n",
    "print(suicide_regions2.keys())"
   ]
  },
  {
   "cell_type": "code",
   "execution_count": 137,
   "id": "6419257b-4b45-424b-bf0e-1e8d583f3fa1",
   "metadata": {},
   "outputs": [
    {
     "name": "stdout",
     "output_type": "stream",
     "text": [
      "2.206517528948446e-89\n"
     ]
    }
   ],
   "source": [
    "#Anova test to determine if the pval is significant\n",
    "fstat, pval = f_oneway(suicide_regions2['Americas'], suicide_regions2['Europe'], suicide_regions2['Africa'],\n",
    "                       suicide_regions2['South-East Asia'], suicide_regions2['Eastern Mediterranean'], suicide_regions2['Western Pacific'])\n",
    "print(pval)"
   ]
  },
  {
   "cell_type": "code",
   "execution_count": 139,
   "id": "7d036f63-07c8-42d3-a3b6-6587f3d4d247",
   "metadata": {},
   "outputs": [
    {
     "name": "stdout",
     "output_type": "stream",
     "text": [
      "                Multiple Comparison of Means - Tukey HSD, FWER=0.05                 \n",
      "====================================================================================\n",
      "        group1                group2        meandiff p-adj   lower    upper   reject\n",
      "------------------------------------------------------------------------------------\n",
      "               Africa              Americas -16.7287   -0.0 -19.5889 -13.8684   True\n",
      "               Africa Eastern Mediterranean -18.9917   -0.0 -22.2898 -15.6936   True\n",
      "               Africa                Europe -11.8437   -0.0 -14.4127  -9.2747   True\n",
      "               Africa       South-East Asia -15.2708   -0.0 -19.4598 -11.0819   True\n",
      "               Africa       Western Pacific  -9.6405   -0.0 -12.9364  -6.3447   True\n",
      "             Americas Eastern Mediterranean  -2.2631 0.4278  -5.7337   1.2075  False\n",
      "             Americas                Europe   4.8849    0.0    2.098   7.6719   True\n",
      "             Americas       South-East Asia   1.4578 0.9302  -2.8683   5.7839  False\n",
      "             Americas       Western Pacific   7.0881    0.0   3.6196  10.5566   True\n",
      "Eastern Mediterranean                Europe    7.148    0.0   3.9133  10.3827   True\n",
      "Eastern Mediterranean       South-East Asia   3.7209 0.1972  -0.9063   8.3481  False\n",
      "Eastern Mediterranean       Western Pacific   9.3512    0.0   5.5137  13.1887   True\n",
      "               Europe       South-East Asia  -3.4271 0.1706  -7.5664   0.7121  False\n",
      "               Europe       Western Pacific   2.2032 0.3758  -1.0293   5.4356  False\n",
      "      South-East Asia       Western Pacific   5.6303  0.007   1.0046   10.256   True\n",
      "------------------------------------------------------------------------------------\n"
     ]
    }
   ],
   "source": [
    "#Tukey's Range Test to determine which pairings are significant\n",
    "sig_threshold = 0.05\n",
    "tukey_results_ln = pairwise_tukeyhsd(suicides_ln.Value, suicides_ln.ParentLocation, sig_threshold)\n",
    "print(tukey_results)"
   ]
  },
  {
   "cell_type": "markdown",
   "id": "458fd8e5-e4f5-40b6-ba79-3f674d7770aa",
   "metadata": {
    "tags": []
   },
   "source": [
    "##### Africa is significantly different from every other region<br>\n",
    "Region pairs that are not significantly different are: (pval >= 0.05)<br>\n",
    "Americas - Eastern Mediterranean<br>\n",
    "Americas - South-East Asia<br>\n",
    "Eastern Mediterranean - South-East Asia<br>\n",
    "Europe - South-East Asia<br>\n",
    "Europe - Western Pacific<br>\n",
    "Natural Log transformation ANOVA test supports the results from the zscored normalized ANOVA test"
   ]
  },
  {
   "cell_type": "code",
   "execution_count": null,
   "id": "a2fd09c7-38f4-4762-ba05-71bbd40c90a9",
   "metadata": {},
   "outputs": [],
   "source": []
  }
 ],
 "metadata": {
  "kernelspec": {
   "display_name": "Python 3 (ipykernel)",
   "language": "python",
   "name": "python3"
  },
  "language_info": {
   "codemirror_mode": {
    "name": "ipython",
    "version": 3
   },
   "file_extension": ".py",
   "mimetype": "text/x-python",
   "name": "python",
   "nbconvert_exporter": "python",
   "pygments_lexer": "ipython3",
   "version": "3.9.12"
  }
 },
 "nbformat": 4,
 "nbformat_minor": 5
}
